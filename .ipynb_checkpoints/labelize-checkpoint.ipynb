{
 "cells": [
  {
   "cell_type": "markdown",
   "id": "b466a47e",
   "metadata": {},
   "source": [
    "# Labelize Algorithm"
   ]
  },
  {
   "cell_type": "markdown",
   "id": "497d8bb1",
   "metadata": {},
   "source": [
    "## Briefing\n",
    "\n",
    "We prepare a dateset consisting of two random sets of geometric points in the geojson format: *PointGeomFigure* and *TextPointGeomFigure*/\n",
    "\n",
    "The goal of the algorithm is to pair the points with the text and return the text in place of the point/"
   ]
  },
  {
   "cell_type": "markdown",
   "id": "6f9cf903",
   "metadata": {},
   "source": [
    "## Imports"
   ]
  },
  {
   "cell_type": "code",
   "execution_count": 24,
   "id": "a04a270b",
   "metadata": {},
   "outputs": [],
   "source": [
    "import numpy as np\n",
    "import pandas as pd\n",
    "import matplotlib.pyplot as plt\n",
    "import seaborn as sns\n",
    "import random\n",
    "import json"
   ]
  },
  {
   "cell_type": "markdown",
   "id": "ef643228",
   "metadata": {},
   "source": [
    "## Data preparation"
   ]
  },
  {
   "cell_type": "code",
   "execution_count": 25,
   "id": "0d86c702",
   "metadata": {},
   "outputs": [],
   "source": [
    "# Empty layer with to populate with points \n",
    "layer_data = {\n",
    "           \"layername\": \"PointsLayer\",\n",
    "           \"data\": {\n",
    "               \"type\": \"FeatureCollection\",\n",
    "               \"features\": [\n",
    "               ]\n",
    "           }\n",
    "       }"
   ]
  },
  {
   "cell_type": "markdown",
   "id": "fc91c498",
   "metadata": {},
   "source": [
    "### *PointGeomFigure*"
   ]
  },
  {
   "cell_type": "code",
   "execution_count": 26,
   "id": "9fc2c508",
   "metadata": {},
   "outputs": [],
   "source": [
    "# Empty feature of one point \n",
    "\n",
    "point_data  = {\n",
    "   \"type\": \"Feature\",\n",
    "   \"geometry\": {\n",
    "       \"type\": \"Point\",\n",
    "       \"coordinates\":\n",
    "           [\n",
    "           ]\n",
    "   },\n",
    "   \"properties\": {\n",
    "       \"geo_type\": \"Point\"\n",
    "   }\n",
    "}"
   ]
  },
  {
   "cell_type": "code",
   "execution_count": 27,
   "id": "764e417d",
   "metadata": {},
   "outputs": [],
   "source": [
    "def populate(size, json_data):\n",
    "    points = []\n",
    "    while len(points) < size:\n",
    "        pt = [random.randint(0, 99), random.randint(0, 99)]\n",
    "        json_point = json_data\n",
    "        json_point[\"geometry\"][\"coordinates\"] = pt\n",
    "        points.append(json_point)\n",
    "      \n",
    "    return points"
   ]
  },
  {
   "cell_type": "code",
   "execution_count": 28,
   "id": "bedbf3d9",
   "metadata": {},
   "outputs": [],
   "source": [
    "points = populate(100, point_data)"
   ]
  },
  {
   "cell_type": "code",
   "execution_count": 29,
   "id": "a5cc4fab",
   "metadata": {
    "collapsed": true
   },
   "outputs": [
    {
     "name": "stdout",
     "output_type": "stream",
     "text": [
      "[{'type': 'Feature', 'geometry': {'type': 'Point', 'coordinates': [45, 40]}, 'properties': {'geo_type': 'Point'}}, {'type': 'Feature', 'geometry': {'type': 'Point', 'coordinates': [45, 40]}, 'properties': {'geo_type': 'Point'}}, {'type': 'Feature', 'geometry': {'type': 'Point', 'coordinates': [45, 40]}, 'properties': {'geo_type': 'Point'}}, {'type': 'Feature', 'geometry': {'type': 'Point', 'coordinates': [45, 40]}, 'properties': {'geo_type': 'Point'}}, {'type': 'Feature', 'geometry': {'type': 'Point', 'coordinates': [45, 40]}, 'properties': {'geo_type': 'Point'}}, {'type': 'Feature', 'geometry': {'type': 'Point', 'coordinates': [45, 40]}, 'properties': {'geo_type': 'Point'}}, {'type': 'Feature', 'geometry': {'type': 'Point', 'coordinates': [45, 40]}, 'properties': {'geo_type': 'Point'}}, {'type': 'Feature', 'geometry': {'type': 'Point', 'coordinates': [45, 40]}, 'properties': {'geo_type': 'Point'}}, {'type': 'Feature', 'geometry': {'type': 'Point', 'coordinates': [45, 40]}, 'properties': {'geo_type': 'Point'}}, {'type': 'Feature', 'geometry': {'type': 'Point', 'coordinates': [45, 40]}, 'properties': {'geo_type': 'Point'}}, {'type': 'Feature', 'geometry': {'type': 'Point', 'coordinates': [45, 40]}, 'properties': {'geo_type': 'Point'}}, {'type': 'Feature', 'geometry': {'type': 'Point', 'coordinates': [45, 40]}, 'properties': {'geo_type': 'Point'}}, {'type': 'Feature', 'geometry': {'type': 'Point', 'coordinates': [45, 40]}, 'properties': {'geo_type': 'Point'}}, {'type': 'Feature', 'geometry': {'type': 'Point', 'coordinates': [45, 40]}, 'properties': {'geo_type': 'Point'}}, {'type': 'Feature', 'geometry': {'type': 'Point', 'coordinates': [45, 40]}, 'properties': {'geo_type': 'Point'}}, {'type': 'Feature', 'geometry': {'type': 'Point', 'coordinates': [45, 40]}, 'properties': {'geo_type': 'Point'}}, {'type': 'Feature', 'geometry': {'type': 'Point', 'coordinates': [45, 40]}, 'properties': {'geo_type': 'Point'}}, {'type': 'Feature', 'geometry': {'type': 'Point', 'coordinates': [45, 40]}, 'properties': {'geo_type': 'Point'}}, {'type': 'Feature', 'geometry': {'type': 'Point', 'coordinates': [45, 40]}, 'properties': {'geo_type': 'Point'}}, {'type': 'Feature', 'geometry': {'type': 'Point', 'coordinates': [45, 40]}, 'properties': {'geo_type': 'Point'}}, {'type': 'Feature', 'geometry': {'type': 'Point', 'coordinates': [45, 40]}, 'properties': {'geo_type': 'Point'}}, {'type': 'Feature', 'geometry': {'type': 'Point', 'coordinates': [45, 40]}, 'properties': {'geo_type': 'Point'}}, {'type': 'Feature', 'geometry': {'type': 'Point', 'coordinates': [45, 40]}, 'properties': {'geo_type': 'Point'}}, {'type': 'Feature', 'geometry': {'type': 'Point', 'coordinates': [45, 40]}, 'properties': {'geo_type': 'Point'}}, {'type': 'Feature', 'geometry': {'type': 'Point', 'coordinates': [45, 40]}, 'properties': {'geo_type': 'Point'}}, {'type': 'Feature', 'geometry': {'type': 'Point', 'coordinates': [45, 40]}, 'properties': {'geo_type': 'Point'}}, {'type': 'Feature', 'geometry': {'type': 'Point', 'coordinates': [45, 40]}, 'properties': {'geo_type': 'Point'}}, {'type': 'Feature', 'geometry': {'type': 'Point', 'coordinates': [45, 40]}, 'properties': {'geo_type': 'Point'}}, {'type': 'Feature', 'geometry': {'type': 'Point', 'coordinates': [45, 40]}, 'properties': {'geo_type': 'Point'}}, {'type': 'Feature', 'geometry': {'type': 'Point', 'coordinates': [45, 40]}, 'properties': {'geo_type': 'Point'}}, {'type': 'Feature', 'geometry': {'type': 'Point', 'coordinates': [45, 40]}, 'properties': {'geo_type': 'Point'}}, {'type': 'Feature', 'geometry': {'type': 'Point', 'coordinates': [45, 40]}, 'properties': {'geo_type': 'Point'}}, {'type': 'Feature', 'geometry': {'type': 'Point', 'coordinates': [45, 40]}, 'properties': {'geo_type': 'Point'}}, {'type': 'Feature', 'geometry': {'type': 'Point', 'coordinates': [45, 40]}, 'properties': {'geo_type': 'Point'}}, {'type': 'Feature', 'geometry': {'type': 'Point', 'coordinates': [45, 40]}, 'properties': {'geo_type': 'Point'}}, {'type': 'Feature', 'geometry': {'type': 'Point', 'coordinates': [45, 40]}, 'properties': {'geo_type': 'Point'}}, {'type': 'Feature', 'geometry': {'type': 'Point', 'coordinates': [45, 40]}, 'properties': {'geo_type': 'Point'}}, {'type': 'Feature', 'geometry': {'type': 'Point', 'coordinates': [45, 40]}, 'properties': {'geo_type': 'Point'}}, {'type': 'Feature', 'geometry': {'type': 'Point', 'coordinates': [45, 40]}, 'properties': {'geo_type': 'Point'}}, {'type': 'Feature', 'geometry': {'type': 'Point', 'coordinates': [45, 40]}, 'properties': {'geo_type': 'Point'}}, {'type': 'Feature', 'geometry': {'type': 'Point', 'coordinates': [45, 40]}, 'properties': {'geo_type': 'Point'}}, {'type': 'Feature', 'geometry': {'type': 'Point', 'coordinates': [45, 40]}, 'properties': {'geo_type': 'Point'}}, {'type': 'Feature', 'geometry': {'type': 'Point', 'coordinates': [45, 40]}, 'properties': {'geo_type': 'Point'}}, {'type': 'Feature', 'geometry': {'type': 'Point', 'coordinates': [45, 40]}, 'properties': {'geo_type': 'Point'}}, {'type': 'Feature', 'geometry': {'type': 'Point', 'coordinates': [45, 40]}, 'properties': {'geo_type': 'Point'}}, {'type': 'Feature', 'geometry': {'type': 'Point', 'coordinates': [45, 40]}, 'properties': {'geo_type': 'Point'}}, {'type': 'Feature', 'geometry': {'type': 'Point', 'coordinates': [45, 40]}, 'properties': {'geo_type': 'Point'}}, {'type': 'Feature', 'geometry': {'type': 'Point', 'coordinates': [45, 40]}, 'properties': {'geo_type': 'Point'}}, {'type': 'Feature', 'geometry': {'type': 'Point', 'coordinates': [45, 40]}, 'properties': {'geo_type': 'Point'}}, {'type': 'Feature', 'geometry': {'type': 'Point', 'coordinates': [45, 40]}, 'properties': {'geo_type': 'Point'}}, {'type': 'Feature', 'geometry': {'type': 'Point', 'coordinates': [45, 40]}, 'properties': {'geo_type': 'Point'}}, {'type': 'Feature', 'geometry': {'type': 'Point', 'coordinates': [45, 40]}, 'properties': {'geo_type': 'Point'}}, {'type': 'Feature', 'geometry': {'type': 'Point', 'coordinates': [45, 40]}, 'properties': {'geo_type': 'Point'}}, {'type': 'Feature', 'geometry': {'type': 'Point', 'coordinates': [45, 40]}, 'properties': {'geo_type': 'Point'}}, {'type': 'Feature', 'geometry': {'type': 'Point', 'coordinates': [45, 40]}, 'properties': {'geo_type': 'Point'}}, {'type': 'Feature', 'geometry': {'type': 'Point', 'coordinates': [45, 40]}, 'properties': {'geo_type': 'Point'}}, {'type': 'Feature', 'geometry': {'type': 'Point', 'coordinates': [45, 40]}, 'properties': {'geo_type': 'Point'}}, {'type': 'Feature', 'geometry': {'type': 'Point', 'coordinates': [45, 40]}, 'properties': {'geo_type': 'Point'}}, {'type': 'Feature', 'geometry': {'type': 'Point', 'coordinates': [45, 40]}, 'properties': {'geo_type': 'Point'}}, {'type': 'Feature', 'geometry': {'type': 'Point', 'coordinates': [45, 40]}, 'properties': {'geo_type': 'Point'}}, {'type': 'Feature', 'geometry': {'type': 'Point', 'coordinates': [45, 40]}, 'properties': {'geo_type': 'Point'}}, {'type': 'Feature', 'geometry': {'type': 'Point', 'coordinates': [45, 40]}, 'properties': {'geo_type': 'Point'}}, {'type': 'Feature', 'geometry': {'type': 'Point', 'coordinates': [45, 40]}, 'properties': {'geo_type': 'Point'}}, {'type': 'Feature', 'geometry': {'type': 'Point', 'coordinates': [45, 40]}, 'properties': {'geo_type': 'Point'}}, {'type': 'Feature', 'geometry': {'type': 'Point', 'coordinates': [45, 40]}, 'properties': {'geo_type': 'Point'}}, {'type': 'Feature', 'geometry': {'type': 'Point', 'coordinates': [45, 40]}, 'properties': {'geo_type': 'Point'}}, {'type': 'Feature', 'geometry': {'type': 'Point', 'coordinates': [45, 40]}, 'properties': {'geo_type': 'Point'}}, {'type': 'Feature', 'geometry': {'type': 'Point', 'coordinates': [45, 40]}, 'properties': {'geo_type': 'Point'}}, {'type': 'Feature', 'geometry': {'type': 'Point', 'coordinates': [45, 40]}, 'properties': {'geo_type': 'Point'}}, {'type': 'Feature', 'geometry': {'type': 'Point', 'coordinates': [45, 40]}, 'properties': {'geo_type': 'Point'}}, {'type': 'Feature', 'geometry': {'type': 'Point', 'coordinates': [45, 40]}, 'properties': {'geo_type': 'Point'}}, {'type': 'Feature', 'geometry': {'type': 'Point', 'coordinates': [45, 40]}, 'properties': {'geo_type': 'Point'}}, {'type': 'Feature', 'geometry': {'type': 'Point', 'coordinates': [45, 40]}, 'properties': {'geo_type': 'Point'}}, {'type': 'Feature', 'geometry': {'type': 'Point', 'coordinates': [45, 40]}, 'properties': {'geo_type': 'Point'}}, {'type': 'Feature', 'geometry': {'type': 'Point', 'coordinates': [45, 40]}, 'properties': {'geo_type': 'Point'}}, {'type': 'Feature', 'geometry': {'type': 'Point', 'coordinates': [45, 40]}, 'properties': {'geo_type': 'Point'}}, {'type': 'Feature', 'geometry': {'type': 'Point', 'coordinates': [45, 40]}, 'properties': {'geo_type': 'Point'}}, {'type': 'Feature', 'geometry': {'type': 'Point', 'coordinates': [45, 40]}, 'properties': {'geo_type': 'Point'}}, {'type': 'Feature', 'geometry': {'type': 'Point', 'coordinates': [45, 40]}, 'properties': {'geo_type': 'Point'}}, {'type': 'Feature', 'geometry': {'type': 'Point', 'coordinates': [45, 40]}, 'properties': {'geo_type': 'Point'}}, {'type': 'Feature', 'geometry': {'type': 'Point', 'coordinates': [45, 40]}, 'properties': {'geo_type': 'Point'}}, {'type': 'Feature', 'geometry': {'type': 'Point', 'coordinates': [45, 40]}, 'properties': {'geo_type': 'Point'}}, {'type': 'Feature', 'geometry': {'type': 'Point', 'coordinates': [45, 40]}, 'properties': {'geo_type': 'Point'}}, {'type': 'Feature', 'geometry': {'type': 'Point', 'coordinates': [45, 40]}, 'properties': {'geo_type': 'Point'}}, {'type': 'Feature', 'geometry': {'type': 'Point', 'coordinates': [45, 40]}, 'properties': {'geo_type': 'Point'}}, {'type': 'Feature', 'geometry': {'type': 'Point', 'coordinates': [45, 40]}, 'properties': {'geo_type': 'Point'}}, {'type': 'Feature', 'geometry': {'type': 'Point', 'coordinates': [45, 40]}, 'properties': {'geo_type': 'Point'}}, {'type': 'Feature', 'geometry': {'type': 'Point', 'coordinates': [45, 40]}, 'properties': {'geo_type': 'Point'}}, {'type': 'Feature', 'geometry': {'type': 'Point', 'coordinates': [45, 40]}, 'properties': {'geo_type': 'Point'}}, {'type': 'Feature', 'geometry': {'type': 'Point', 'coordinates': [45, 40]}, 'properties': {'geo_type': 'Point'}}, {'type': 'Feature', 'geometry': {'type': 'Point', 'coordinates': [45, 40]}, 'properties': {'geo_type': 'Point'}}, {'type': 'Feature', 'geometry': {'type': 'Point', 'coordinates': [45, 40]}, 'properties': {'geo_type': 'Point'}}, {'type': 'Feature', 'geometry': {'type': 'Point', 'coordinates': [45, 40]}, 'properties': {'geo_type': 'Point'}}, {'type': 'Feature', 'geometry': {'type': 'Point', 'coordinates': [45, 40]}, 'properties': {'geo_type': 'Point'}}, {'type': 'Feature', 'geometry': {'type': 'Point', 'coordinates': [45, 40]}, 'properties': {'geo_type': 'Point'}}, {'type': 'Feature', 'geometry': {'type': 'Point', 'coordinates': [45, 40]}, 'properties': {'geo_type': 'Point'}}, {'type': 'Feature', 'geometry': {'type': 'Point', 'coordinates': [45, 40]}, 'properties': {'geo_type': 'Point'}}, {'type': 'Feature', 'geometry': {'type': 'Point', 'coordinates': [45, 40]}, 'properties': {'geo_type': 'Point'}}, {'type': 'Feature', 'geometry': {'type': 'Point', 'coordinates': [45, 40]}, 'properties': {'geo_type': 'Point'}}, {'type': 'Feature', 'geometry': {'type': 'Point', 'coordinates': [45, 40]}, 'properties': {'geo_type': 'Point'}}]\n"
     ]
    }
   ],
   "source": [
    "print(points)"
   ]
  },
  {
   "cell_type": "code",
   "execution_count": 37,
   "id": "b4b5947e",
   "metadata": {},
   "outputs": [],
   "source": [
    "PointLayer = layer_data"
   ]
  },
  {
   "cell_type": "code",
   "execution_count": 38,
   "id": "ff5b90bf",
   "metadata": {},
   "outputs": [],
   "source": [
    "PointLayer[\"data\"][\"features\"] = points"
   ]
  },
  {
   "cell_type": "code",
   "execution_count": 39,
   "id": "9be79680",
   "metadata": {
    "collapsed": true
   },
   "outputs": [
    {
     "name": "stdout",
     "output_type": "stream",
     "text": [
      "{'layername': 'PointsLayer', 'data': {'type': 'FeatureCollection', 'features': [{'type': 'Feature', 'geometry': {'type': 'Point', 'coordinates': [16, 19]}, 'properties': {'geo_type': 'Point'}}, {'type': 'Feature', 'geometry': {'type': 'Point', 'coordinates': [16, 19]}, 'properties': {'geo_type': 'Point'}}, {'type': 'Feature', 'geometry': {'type': 'Point', 'coordinates': [16, 19]}, 'properties': {'geo_type': 'Point'}}, {'type': 'Feature', 'geometry': {'type': 'Point', 'coordinates': [16, 19]}, 'properties': {'geo_type': 'Point'}}, {'type': 'Feature', 'geometry': {'type': 'Point', 'coordinates': [16, 19]}, 'properties': {'geo_type': 'Point'}}, {'type': 'Feature', 'geometry': {'type': 'Point', 'coordinates': [16, 19]}, 'properties': {'geo_type': 'Point'}}, {'type': 'Feature', 'geometry': {'type': 'Point', 'coordinates': [16, 19]}, 'properties': {'geo_type': 'Point'}}, {'type': 'Feature', 'geometry': {'type': 'Point', 'coordinates': [16, 19]}, 'properties': {'geo_type': 'Point'}}, {'type': 'Feature', 'geometry': {'type': 'Point', 'coordinates': [16, 19]}, 'properties': {'geo_type': 'Point'}}, {'type': 'Feature', 'geometry': {'type': 'Point', 'coordinates': [16, 19]}, 'properties': {'geo_type': 'Point'}}, {'type': 'Feature', 'geometry': {'type': 'Point', 'coordinates': [16, 19]}, 'properties': {'geo_type': 'Point'}}, {'type': 'Feature', 'geometry': {'type': 'Point', 'coordinates': [16, 19]}, 'properties': {'geo_type': 'Point'}}, {'type': 'Feature', 'geometry': {'type': 'Point', 'coordinates': [16, 19]}, 'properties': {'geo_type': 'Point'}}, {'type': 'Feature', 'geometry': {'type': 'Point', 'coordinates': [16, 19]}, 'properties': {'geo_type': 'Point'}}, {'type': 'Feature', 'geometry': {'type': 'Point', 'coordinates': [16, 19]}, 'properties': {'geo_type': 'Point'}}, {'type': 'Feature', 'geometry': {'type': 'Point', 'coordinates': [16, 19]}, 'properties': {'geo_type': 'Point'}}, {'type': 'Feature', 'geometry': {'type': 'Point', 'coordinates': [16, 19]}, 'properties': {'geo_type': 'Point'}}, {'type': 'Feature', 'geometry': {'type': 'Point', 'coordinates': [16, 19]}, 'properties': {'geo_type': 'Point'}}, {'type': 'Feature', 'geometry': {'type': 'Point', 'coordinates': [16, 19]}, 'properties': {'geo_type': 'Point'}}, {'type': 'Feature', 'geometry': {'type': 'Point', 'coordinates': [16, 19]}, 'properties': {'geo_type': 'Point'}}, {'type': 'Feature', 'geometry': {'type': 'Point', 'coordinates': [16, 19]}, 'properties': {'geo_type': 'Point'}}, {'type': 'Feature', 'geometry': {'type': 'Point', 'coordinates': [16, 19]}, 'properties': {'geo_type': 'Point'}}, {'type': 'Feature', 'geometry': {'type': 'Point', 'coordinates': [16, 19]}, 'properties': {'geo_type': 'Point'}}, {'type': 'Feature', 'geometry': {'type': 'Point', 'coordinates': [16, 19]}, 'properties': {'geo_type': 'Point'}}, {'type': 'Feature', 'geometry': {'type': 'Point', 'coordinates': [16, 19]}, 'properties': {'geo_type': 'Point'}}, {'type': 'Feature', 'geometry': {'type': 'Point', 'coordinates': [16, 19]}, 'properties': {'geo_type': 'Point'}}, {'type': 'Feature', 'geometry': {'type': 'Point', 'coordinates': [16, 19]}, 'properties': {'geo_type': 'Point'}}, {'type': 'Feature', 'geometry': {'type': 'Point', 'coordinates': [16, 19]}, 'properties': {'geo_type': 'Point'}}, {'type': 'Feature', 'geometry': {'type': 'Point', 'coordinates': [16, 19]}, 'properties': {'geo_type': 'Point'}}, {'type': 'Feature', 'geometry': {'type': 'Point', 'coordinates': [16, 19]}, 'properties': {'geo_type': 'Point'}}, {'type': 'Feature', 'geometry': {'type': 'Point', 'coordinates': [16, 19]}, 'properties': {'geo_type': 'Point'}}, {'type': 'Feature', 'geometry': {'type': 'Point', 'coordinates': [16, 19]}, 'properties': {'geo_type': 'Point'}}, {'type': 'Feature', 'geometry': {'type': 'Point', 'coordinates': [16, 19]}, 'properties': {'geo_type': 'Point'}}, {'type': 'Feature', 'geometry': {'type': 'Point', 'coordinates': [16, 19]}, 'properties': {'geo_type': 'Point'}}, {'type': 'Feature', 'geometry': {'type': 'Point', 'coordinates': [16, 19]}, 'properties': {'geo_type': 'Point'}}, {'type': 'Feature', 'geometry': {'type': 'Point', 'coordinates': [16, 19]}, 'properties': {'geo_type': 'Point'}}, {'type': 'Feature', 'geometry': {'type': 'Point', 'coordinates': [16, 19]}, 'properties': {'geo_type': 'Point'}}, {'type': 'Feature', 'geometry': {'type': 'Point', 'coordinates': [16, 19]}, 'properties': {'geo_type': 'Point'}}, {'type': 'Feature', 'geometry': {'type': 'Point', 'coordinates': [16, 19]}, 'properties': {'geo_type': 'Point'}}, {'type': 'Feature', 'geometry': {'type': 'Point', 'coordinates': [16, 19]}, 'properties': {'geo_type': 'Point'}}, {'type': 'Feature', 'geometry': {'type': 'Point', 'coordinates': [16, 19]}, 'properties': {'geo_type': 'Point'}}, {'type': 'Feature', 'geometry': {'type': 'Point', 'coordinates': [16, 19]}, 'properties': {'geo_type': 'Point'}}, {'type': 'Feature', 'geometry': {'type': 'Point', 'coordinates': [16, 19]}, 'properties': {'geo_type': 'Point'}}, {'type': 'Feature', 'geometry': {'type': 'Point', 'coordinates': [16, 19]}, 'properties': {'geo_type': 'Point'}}, {'type': 'Feature', 'geometry': {'type': 'Point', 'coordinates': [16, 19]}, 'properties': {'geo_type': 'Point'}}, {'type': 'Feature', 'geometry': {'type': 'Point', 'coordinates': [16, 19]}, 'properties': {'geo_type': 'Point'}}, {'type': 'Feature', 'geometry': {'type': 'Point', 'coordinates': [16, 19]}, 'properties': {'geo_type': 'Point'}}, {'type': 'Feature', 'geometry': {'type': 'Point', 'coordinates': [16, 19]}, 'properties': {'geo_type': 'Point'}}, {'type': 'Feature', 'geometry': {'type': 'Point', 'coordinates': [16, 19]}, 'properties': {'geo_type': 'Point'}}, {'type': 'Feature', 'geometry': {'type': 'Point', 'coordinates': [16, 19]}, 'properties': {'geo_type': 'Point'}}, {'type': 'Feature', 'geometry': {'type': 'Point', 'coordinates': [16, 19]}, 'properties': {'geo_type': 'Point'}}, {'type': 'Feature', 'geometry': {'type': 'Point', 'coordinates': [16, 19]}, 'properties': {'geo_type': 'Point'}}, {'type': 'Feature', 'geometry': {'type': 'Point', 'coordinates': [16, 19]}, 'properties': {'geo_type': 'Point'}}, {'type': 'Feature', 'geometry': {'type': 'Point', 'coordinates': [16, 19]}, 'properties': {'geo_type': 'Point'}}, {'type': 'Feature', 'geometry': {'type': 'Point', 'coordinates': [16, 19]}, 'properties': {'geo_type': 'Point'}}, {'type': 'Feature', 'geometry': {'type': 'Point', 'coordinates': [16, 19]}, 'properties': {'geo_type': 'Point'}}, {'type': 'Feature', 'geometry': {'type': 'Point', 'coordinates': [16, 19]}, 'properties': {'geo_type': 'Point'}}, {'type': 'Feature', 'geometry': {'type': 'Point', 'coordinates': [16, 19]}, 'properties': {'geo_type': 'Point'}}, {'type': 'Feature', 'geometry': {'type': 'Point', 'coordinates': [16, 19]}, 'properties': {'geo_type': 'Point'}}, {'type': 'Feature', 'geometry': {'type': 'Point', 'coordinates': [16, 19]}, 'properties': {'geo_type': 'Point'}}, {'type': 'Feature', 'geometry': {'type': 'Point', 'coordinates': [16, 19]}, 'properties': {'geo_type': 'Point'}}, {'type': 'Feature', 'geometry': {'type': 'Point', 'coordinates': [16, 19]}, 'properties': {'geo_type': 'Point'}}, {'type': 'Feature', 'geometry': {'type': 'Point', 'coordinates': [16, 19]}, 'properties': {'geo_type': 'Point'}}, {'type': 'Feature', 'geometry': {'type': 'Point', 'coordinates': [16, 19]}, 'properties': {'geo_type': 'Point'}}, {'type': 'Feature', 'geometry': {'type': 'Point', 'coordinates': [16, 19]}, 'properties': {'geo_type': 'Point'}}, {'type': 'Feature', 'geometry': {'type': 'Point', 'coordinates': [16, 19]}, 'properties': {'geo_type': 'Point'}}, {'type': 'Feature', 'geometry': {'type': 'Point', 'coordinates': [16, 19]}, 'properties': {'geo_type': 'Point'}}, {'type': 'Feature', 'geometry': {'type': 'Point', 'coordinates': [16, 19]}, 'properties': {'geo_type': 'Point'}}, {'type': 'Feature', 'geometry': {'type': 'Point', 'coordinates': [16, 19]}, 'properties': {'geo_type': 'Point'}}, {'type': 'Feature', 'geometry': {'type': 'Point', 'coordinates': [16, 19]}, 'properties': {'geo_type': 'Point'}}, {'type': 'Feature', 'geometry': {'type': 'Point', 'coordinates': [16, 19]}, 'properties': {'geo_type': 'Point'}}, {'type': 'Feature', 'geometry': {'type': 'Point', 'coordinates': [16, 19]}, 'properties': {'geo_type': 'Point'}}, {'type': 'Feature', 'geometry': {'type': 'Point', 'coordinates': [16, 19]}, 'properties': {'geo_type': 'Point'}}, {'type': 'Feature', 'geometry': {'type': 'Point', 'coordinates': [16, 19]}, 'properties': {'geo_type': 'Point'}}, {'type': 'Feature', 'geometry': {'type': 'Point', 'coordinates': [16, 19]}, 'properties': {'geo_type': 'Point'}}, {'type': 'Feature', 'geometry': {'type': 'Point', 'coordinates': [16, 19]}, 'properties': {'geo_type': 'Point'}}, {'type': 'Feature', 'geometry': {'type': 'Point', 'coordinates': [16, 19]}, 'properties': {'geo_type': 'Point'}}, {'type': 'Feature', 'geometry': {'type': 'Point', 'coordinates': [16, 19]}, 'properties': {'geo_type': 'Point'}}, {'type': 'Feature', 'geometry': {'type': 'Point', 'coordinates': [16, 19]}, 'properties': {'geo_type': 'Point'}}, {'type': 'Feature', 'geometry': {'type': 'Point', 'coordinates': [16, 19]}, 'properties': {'geo_type': 'Point'}}, {'type': 'Feature', 'geometry': {'type': 'Point', 'coordinates': [16, 19]}, 'properties': {'geo_type': 'Point'}}, {'type': 'Feature', 'geometry': {'type': 'Point', 'coordinates': [16, 19]}, 'properties': {'geo_type': 'Point'}}, {'type': 'Feature', 'geometry': {'type': 'Point', 'coordinates': [16, 19]}, 'properties': {'geo_type': 'Point'}}, {'type': 'Feature', 'geometry': {'type': 'Point', 'coordinates': [16, 19]}, 'properties': {'geo_type': 'Point'}}, {'type': 'Feature', 'geometry': {'type': 'Point', 'coordinates': [16, 19]}, 'properties': {'geo_type': 'Point'}}, {'type': 'Feature', 'geometry': {'type': 'Point', 'coordinates': [16, 19]}, 'properties': {'geo_type': 'Point'}}, {'type': 'Feature', 'geometry': {'type': 'Point', 'coordinates': [16, 19]}, 'properties': {'geo_type': 'Point'}}, {'type': 'Feature', 'geometry': {'type': 'Point', 'coordinates': [16, 19]}, 'properties': {'geo_type': 'Point'}}, {'type': 'Feature', 'geometry': {'type': 'Point', 'coordinates': [16, 19]}, 'properties': {'geo_type': 'Point'}}, {'type': 'Feature', 'geometry': {'type': 'Point', 'coordinates': [16, 19]}, 'properties': {'geo_type': 'Point'}}, {'type': 'Feature', 'geometry': {'type': 'Point', 'coordinates': [16, 19]}, 'properties': {'geo_type': 'Point'}}, {'type': 'Feature', 'geometry': {'type': 'Point', 'coordinates': [16, 19]}, 'properties': {'geo_type': 'Point'}}, {'type': 'Feature', 'geometry': {'type': 'Point', 'coordinates': [16, 19]}, 'properties': {'geo_type': 'Point'}}, {'type': 'Feature', 'geometry': {'type': 'Point', 'coordinates': [16, 19]}, 'properties': {'geo_type': 'Point'}}, {'type': 'Feature', 'geometry': {'type': 'Point', 'coordinates': [16, 19]}, 'properties': {'geo_type': 'Point'}}, {'type': 'Feature', 'geometry': {'type': 'Point', 'coordinates': [16, 19]}, 'properties': {'geo_type': 'Point'}}, {'type': 'Feature', 'geometry': {'type': 'Point', 'coordinates': [16, 19]}, 'properties': {'geo_type': 'Point'}}, {'type': 'Feature', 'geometry': {'type': 'Point', 'coordinates': [16, 19]}, 'properties': {'geo_type': 'Point'}}, {'type': 'Feature', 'geometry': {'type': 'Point', 'coordinates': [16, 19]}, 'properties': {'geo_type': 'Point'}}, {'type': 'Feature', 'geometry': {'type': 'Point', 'coordinates': [16, 19]}, 'properties': {'geo_type': 'Point'}}]}}\n"
     ]
    }
   ],
   "source": [
    "print(PointLayer)"
   ]
  },
  {
   "cell_type": "markdown",
   "id": "ba29b70c",
   "metadata": {},
   "source": [
    "### *TextGeomFigure*"
   ]
  },
  {
   "cell_type": "code",
   "execution_count": 30,
   "id": "85ec2341",
   "metadata": {},
   "outputs": [],
   "source": [
    "# Empty feature of one textpoint \n",
    "\n",
    "text_data  = {\n",
    "   \"type\": \"Feature\",\n",
    "   \"geometry\": {\n",
    "       \"type\": \"Point\",\n",
    "       \"coordinates\":\n",
    "           [\n",
    "           ]\n",
    "   },\n",
    "   \"properties\": {\n",
    "       \"text\": \"asdasdasdasd\",\n",
    "       \"geo_type\": \"TextPoint\"\n",
    "       \n",
    "   }\n",
    "}"
   ]
  },
  {
   "cell_type": "code",
   "execution_count": 33,
   "id": "afca12fb",
   "metadata": {},
   "outputs": [],
   "source": [
    "text_points = populate(100, text_data)"
   ]
  },
  {
   "cell_type": "code",
   "execution_count": 34,
   "id": "482e03a4",
   "metadata": {
    "collapsed": true
   },
   "outputs": [
    {
     "name": "stdout",
     "output_type": "stream",
     "text": [
      "[{'type': 'Feature', 'geometry': {'type': 'Point', 'coordinates': [46, 21]}, 'properties': {'text': 'asdasdasdasd', 'geo_type': 'TextPoint'}}, {'type': 'Feature', 'geometry': {'type': 'Point', 'coordinates': [46, 21]}, 'properties': {'text': 'asdasdasdasd', 'geo_type': 'TextPoint'}}, {'type': 'Feature', 'geometry': {'type': 'Point', 'coordinates': [46, 21]}, 'properties': {'text': 'asdasdasdasd', 'geo_type': 'TextPoint'}}, {'type': 'Feature', 'geometry': {'type': 'Point', 'coordinates': [46, 21]}, 'properties': {'text': 'asdasdasdasd', 'geo_type': 'TextPoint'}}, {'type': 'Feature', 'geometry': {'type': 'Point', 'coordinates': [46, 21]}, 'properties': {'text': 'asdasdasdasd', 'geo_type': 'TextPoint'}}, {'type': 'Feature', 'geometry': {'type': 'Point', 'coordinates': [46, 21]}, 'properties': {'text': 'asdasdasdasd', 'geo_type': 'TextPoint'}}, {'type': 'Feature', 'geometry': {'type': 'Point', 'coordinates': [46, 21]}, 'properties': {'text': 'asdasdasdasd', 'geo_type': 'TextPoint'}}, {'type': 'Feature', 'geometry': {'type': 'Point', 'coordinates': [46, 21]}, 'properties': {'text': 'asdasdasdasd', 'geo_type': 'TextPoint'}}, {'type': 'Feature', 'geometry': {'type': 'Point', 'coordinates': [46, 21]}, 'properties': {'text': 'asdasdasdasd', 'geo_type': 'TextPoint'}}, {'type': 'Feature', 'geometry': {'type': 'Point', 'coordinates': [46, 21]}, 'properties': {'text': 'asdasdasdasd', 'geo_type': 'TextPoint'}}, {'type': 'Feature', 'geometry': {'type': 'Point', 'coordinates': [46, 21]}, 'properties': {'text': 'asdasdasdasd', 'geo_type': 'TextPoint'}}, {'type': 'Feature', 'geometry': {'type': 'Point', 'coordinates': [46, 21]}, 'properties': {'text': 'asdasdasdasd', 'geo_type': 'TextPoint'}}, {'type': 'Feature', 'geometry': {'type': 'Point', 'coordinates': [46, 21]}, 'properties': {'text': 'asdasdasdasd', 'geo_type': 'TextPoint'}}, {'type': 'Feature', 'geometry': {'type': 'Point', 'coordinates': [46, 21]}, 'properties': {'text': 'asdasdasdasd', 'geo_type': 'TextPoint'}}, {'type': 'Feature', 'geometry': {'type': 'Point', 'coordinates': [46, 21]}, 'properties': {'text': 'asdasdasdasd', 'geo_type': 'TextPoint'}}, {'type': 'Feature', 'geometry': {'type': 'Point', 'coordinates': [46, 21]}, 'properties': {'text': 'asdasdasdasd', 'geo_type': 'TextPoint'}}, {'type': 'Feature', 'geometry': {'type': 'Point', 'coordinates': [46, 21]}, 'properties': {'text': 'asdasdasdasd', 'geo_type': 'TextPoint'}}, {'type': 'Feature', 'geometry': {'type': 'Point', 'coordinates': [46, 21]}, 'properties': {'text': 'asdasdasdasd', 'geo_type': 'TextPoint'}}, {'type': 'Feature', 'geometry': {'type': 'Point', 'coordinates': [46, 21]}, 'properties': {'text': 'asdasdasdasd', 'geo_type': 'TextPoint'}}, {'type': 'Feature', 'geometry': {'type': 'Point', 'coordinates': [46, 21]}, 'properties': {'text': 'asdasdasdasd', 'geo_type': 'TextPoint'}}, {'type': 'Feature', 'geometry': {'type': 'Point', 'coordinates': [46, 21]}, 'properties': {'text': 'asdasdasdasd', 'geo_type': 'TextPoint'}}, {'type': 'Feature', 'geometry': {'type': 'Point', 'coordinates': [46, 21]}, 'properties': {'text': 'asdasdasdasd', 'geo_type': 'TextPoint'}}, {'type': 'Feature', 'geometry': {'type': 'Point', 'coordinates': [46, 21]}, 'properties': {'text': 'asdasdasdasd', 'geo_type': 'TextPoint'}}, {'type': 'Feature', 'geometry': {'type': 'Point', 'coordinates': [46, 21]}, 'properties': {'text': 'asdasdasdasd', 'geo_type': 'TextPoint'}}, {'type': 'Feature', 'geometry': {'type': 'Point', 'coordinates': [46, 21]}, 'properties': {'text': 'asdasdasdasd', 'geo_type': 'TextPoint'}}, {'type': 'Feature', 'geometry': {'type': 'Point', 'coordinates': [46, 21]}, 'properties': {'text': 'asdasdasdasd', 'geo_type': 'TextPoint'}}, {'type': 'Feature', 'geometry': {'type': 'Point', 'coordinates': [46, 21]}, 'properties': {'text': 'asdasdasdasd', 'geo_type': 'TextPoint'}}, {'type': 'Feature', 'geometry': {'type': 'Point', 'coordinates': [46, 21]}, 'properties': {'text': 'asdasdasdasd', 'geo_type': 'TextPoint'}}, {'type': 'Feature', 'geometry': {'type': 'Point', 'coordinates': [46, 21]}, 'properties': {'text': 'asdasdasdasd', 'geo_type': 'TextPoint'}}, {'type': 'Feature', 'geometry': {'type': 'Point', 'coordinates': [46, 21]}, 'properties': {'text': 'asdasdasdasd', 'geo_type': 'TextPoint'}}, {'type': 'Feature', 'geometry': {'type': 'Point', 'coordinates': [46, 21]}, 'properties': {'text': 'asdasdasdasd', 'geo_type': 'TextPoint'}}, {'type': 'Feature', 'geometry': {'type': 'Point', 'coordinates': [46, 21]}, 'properties': {'text': 'asdasdasdasd', 'geo_type': 'TextPoint'}}, {'type': 'Feature', 'geometry': {'type': 'Point', 'coordinates': [46, 21]}, 'properties': {'text': 'asdasdasdasd', 'geo_type': 'TextPoint'}}, {'type': 'Feature', 'geometry': {'type': 'Point', 'coordinates': [46, 21]}, 'properties': {'text': 'asdasdasdasd', 'geo_type': 'TextPoint'}}, {'type': 'Feature', 'geometry': {'type': 'Point', 'coordinates': [46, 21]}, 'properties': {'text': 'asdasdasdasd', 'geo_type': 'TextPoint'}}, {'type': 'Feature', 'geometry': {'type': 'Point', 'coordinates': [46, 21]}, 'properties': {'text': 'asdasdasdasd', 'geo_type': 'TextPoint'}}, {'type': 'Feature', 'geometry': {'type': 'Point', 'coordinates': [46, 21]}, 'properties': {'text': 'asdasdasdasd', 'geo_type': 'TextPoint'}}, {'type': 'Feature', 'geometry': {'type': 'Point', 'coordinates': [46, 21]}, 'properties': {'text': 'asdasdasdasd', 'geo_type': 'TextPoint'}}, {'type': 'Feature', 'geometry': {'type': 'Point', 'coordinates': [46, 21]}, 'properties': {'text': 'asdasdasdasd', 'geo_type': 'TextPoint'}}, {'type': 'Feature', 'geometry': {'type': 'Point', 'coordinates': [46, 21]}, 'properties': {'text': 'asdasdasdasd', 'geo_type': 'TextPoint'}}, {'type': 'Feature', 'geometry': {'type': 'Point', 'coordinates': [46, 21]}, 'properties': {'text': 'asdasdasdasd', 'geo_type': 'TextPoint'}}, {'type': 'Feature', 'geometry': {'type': 'Point', 'coordinates': [46, 21]}, 'properties': {'text': 'asdasdasdasd', 'geo_type': 'TextPoint'}}, {'type': 'Feature', 'geometry': {'type': 'Point', 'coordinates': [46, 21]}, 'properties': {'text': 'asdasdasdasd', 'geo_type': 'TextPoint'}}, {'type': 'Feature', 'geometry': {'type': 'Point', 'coordinates': [46, 21]}, 'properties': {'text': 'asdasdasdasd', 'geo_type': 'TextPoint'}}, {'type': 'Feature', 'geometry': {'type': 'Point', 'coordinates': [46, 21]}, 'properties': {'text': 'asdasdasdasd', 'geo_type': 'TextPoint'}}, {'type': 'Feature', 'geometry': {'type': 'Point', 'coordinates': [46, 21]}, 'properties': {'text': 'asdasdasdasd', 'geo_type': 'TextPoint'}}, {'type': 'Feature', 'geometry': {'type': 'Point', 'coordinates': [46, 21]}, 'properties': {'text': 'asdasdasdasd', 'geo_type': 'TextPoint'}}, {'type': 'Feature', 'geometry': {'type': 'Point', 'coordinates': [46, 21]}, 'properties': {'text': 'asdasdasdasd', 'geo_type': 'TextPoint'}}, {'type': 'Feature', 'geometry': {'type': 'Point', 'coordinates': [46, 21]}, 'properties': {'text': 'asdasdasdasd', 'geo_type': 'TextPoint'}}, {'type': 'Feature', 'geometry': {'type': 'Point', 'coordinates': [46, 21]}, 'properties': {'text': 'asdasdasdasd', 'geo_type': 'TextPoint'}}, {'type': 'Feature', 'geometry': {'type': 'Point', 'coordinates': [46, 21]}, 'properties': {'text': 'asdasdasdasd', 'geo_type': 'TextPoint'}}, {'type': 'Feature', 'geometry': {'type': 'Point', 'coordinates': [46, 21]}, 'properties': {'text': 'asdasdasdasd', 'geo_type': 'TextPoint'}}, {'type': 'Feature', 'geometry': {'type': 'Point', 'coordinates': [46, 21]}, 'properties': {'text': 'asdasdasdasd', 'geo_type': 'TextPoint'}}, {'type': 'Feature', 'geometry': {'type': 'Point', 'coordinates': [46, 21]}, 'properties': {'text': 'asdasdasdasd', 'geo_type': 'TextPoint'}}, {'type': 'Feature', 'geometry': {'type': 'Point', 'coordinates': [46, 21]}, 'properties': {'text': 'asdasdasdasd', 'geo_type': 'TextPoint'}}, {'type': 'Feature', 'geometry': {'type': 'Point', 'coordinates': [46, 21]}, 'properties': {'text': 'asdasdasdasd', 'geo_type': 'TextPoint'}}, {'type': 'Feature', 'geometry': {'type': 'Point', 'coordinates': [46, 21]}, 'properties': {'text': 'asdasdasdasd', 'geo_type': 'TextPoint'}}, {'type': 'Feature', 'geometry': {'type': 'Point', 'coordinates': [46, 21]}, 'properties': {'text': 'asdasdasdasd', 'geo_type': 'TextPoint'}}, {'type': 'Feature', 'geometry': {'type': 'Point', 'coordinates': [46, 21]}, 'properties': {'text': 'asdasdasdasd', 'geo_type': 'TextPoint'}}, {'type': 'Feature', 'geometry': {'type': 'Point', 'coordinates': [46, 21]}, 'properties': {'text': 'asdasdasdasd', 'geo_type': 'TextPoint'}}, {'type': 'Feature', 'geometry': {'type': 'Point', 'coordinates': [46, 21]}, 'properties': {'text': 'asdasdasdasd', 'geo_type': 'TextPoint'}}, {'type': 'Feature', 'geometry': {'type': 'Point', 'coordinates': [46, 21]}, 'properties': {'text': 'asdasdasdasd', 'geo_type': 'TextPoint'}}, {'type': 'Feature', 'geometry': {'type': 'Point', 'coordinates': [46, 21]}, 'properties': {'text': 'asdasdasdasd', 'geo_type': 'TextPoint'}}, {'type': 'Feature', 'geometry': {'type': 'Point', 'coordinates': [46, 21]}, 'properties': {'text': 'asdasdasdasd', 'geo_type': 'TextPoint'}}, {'type': 'Feature', 'geometry': {'type': 'Point', 'coordinates': [46, 21]}, 'properties': {'text': 'asdasdasdasd', 'geo_type': 'TextPoint'}}, {'type': 'Feature', 'geometry': {'type': 'Point', 'coordinates': [46, 21]}, 'properties': {'text': 'asdasdasdasd', 'geo_type': 'TextPoint'}}, {'type': 'Feature', 'geometry': {'type': 'Point', 'coordinates': [46, 21]}, 'properties': {'text': 'asdasdasdasd', 'geo_type': 'TextPoint'}}, {'type': 'Feature', 'geometry': {'type': 'Point', 'coordinates': [46, 21]}, 'properties': {'text': 'asdasdasdasd', 'geo_type': 'TextPoint'}}, {'type': 'Feature', 'geometry': {'type': 'Point', 'coordinates': [46, 21]}, 'properties': {'text': 'asdasdasdasd', 'geo_type': 'TextPoint'}}, {'type': 'Feature', 'geometry': {'type': 'Point', 'coordinates': [46, 21]}, 'properties': {'text': 'asdasdasdasd', 'geo_type': 'TextPoint'}}, {'type': 'Feature', 'geometry': {'type': 'Point', 'coordinates': [46, 21]}, 'properties': {'text': 'asdasdasdasd', 'geo_type': 'TextPoint'}}, {'type': 'Feature', 'geometry': {'type': 'Point', 'coordinates': [46, 21]}, 'properties': {'text': 'asdasdasdasd', 'geo_type': 'TextPoint'}}, {'type': 'Feature', 'geometry': {'type': 'Point', 'coordinates': [46, 21]}, 'properties': {'text': 'asdasdasdasd', 'geo_type': 'TextPoint'}}, {'type': 'Feature', 'geometry': {'type': 'Point', 'coordinates': [46, 21]}, 'properties': {'text': 'asdasdasdasd', 'geo_type': 'TextPoint'}}, {'type': 'Feature', 'geometry': {'type': 'Point', 'coordinates': [46, 21]}, 'properties': {'text': 'asdasdasdasd', 'geo_type': 'TextPoint'}}, {'type': 'Feature', 'geometry': {'type': 'Point', 'coordinates': [46, 21]}, 'properties': {'text': 'asdasdasdasd', 'geo_type': 'TextPoint'}}, {'type': 'Feature', 'geometry': {'type': 'Point', 'coordinates': [46, 21]}, 'properties': {'text': 'asdasdasdasd', 'geo_type': 'TextPoint'}}, {'type': 'Feature', 'geometry': {'type': 'Point', 'coordinates': [46, 21]}, 'properties': {'text': 'asdasdasdasd', 'geo_type': 'TextPoint'}}, {'type': 'Feature', 'geometry': {'type': 'Point', 'coordinates': [46, 21]}, 'properties': {'text': 'asdasdasdasd', 'geo_type': 'TextPoint'}}, {'type': 'Feature', 'geometry': {'type': 'Point', 'coordinates': [46, 21]}, 'properties': {'text': 'asdasdasdasd', 'geo_type': 'TextPoint'}}, {'type': 'Feature', 'geometry': {'type': 'Point', 'coordinates': [46, 21]}, 'properties': {'text': 'asdasdasdasd', 'geo_type': 'TextPoint'}}, {'type': 'Feature', 'geometry': {'type': 'Point', 'coordinates': [46, 21]}, 'properties': {'text': 'asdasdasdasd', 'geo_type': 'TextPoint'}}, {'type': 'Feature', 'geometry': {'type': 'Point', 'coordinates': [46, 21]}, 'properties': {'text': 'asdasdasdasd', 'geo_type': 'TextPoint'}}, {'type': 'Feature', 'geometry': {'type': 'Point', 'coordinates': [46, 21]}, 'properties': {'text': 'asdasdasdasd', 'geo_type': 'TextPoint'}}, {'type': 'Feature', 'geometry': {'type': 'Point', 'coordinates': [46, 21]}, 'properties': {'text': 'asdasdasdasd', 'geo_type': 'TextPoint'}}, {'type': 'Feature', 'geometry': {'type': 'Point', 'coordinates': [46, 21]}, 'properties': {'text': 'asdasdasdasd', 'geo_type': 'TextPoint'}}, {'type': 'Feature', 'geometry': {'type': 'Point', 'coordinates': [46, 21]}, 'properties': {'text': 'asdasdasdasd', 'geo_type': 'TextPoint'}}, {'type': 'Feature', 'geometry': {'type': 'Point', 'coordinates': [46, 21]}, 'properties': {'text': 'asdasdasdasd', 'geo_type': 'TextPoint'}}, {'type': 'Feature', 'geometry': {'type': 'Point', 'coordinates': [46, 21]}, 'properties': {'text': 'asdasdasdasd', 'geo_type': 'TextPoint'}}, {'type': 'Feature', 'geometry': {'type': 'Point', 'coordinates': [46, 21]}, 'properties': {'text': 'asdasdasdasd', 'geo_type': 'TextPoint'}}, {'type': 'Feature', 'geometry': {'type': 'Point', 'coordinates': [46, 21]}, 'properties': {'text': 'asdasdasdasd', 'geo_type': 'TextPoint'}}, {'type': 'Feature', 'geometry': {'type': 'Point', 'coordinates': [46, 21]}, 'properties': {'text': 'asdasdasdasd', 'geo_type': 'TextPoint'}}, {'type': 'Feature', 'geometry': {'type': 'Point', 'coordinates': [46, 21]}, 'properties': {'text': 'asdasdasdasd', 'geo_type': 'TextPoint'}}, {'type': 'Feature', 'geometry': {'type': 'Point', 'coordinates': [46, 21]}, 'properties': {'text': 'asdasdasdasd', 'geo_type': 'TextPoint'}}, {'type': 'Feature', 'geometry': {'type': 'Point', 'coordinates': [46, 21]}, 'properties': {'text': 'asdasdasdasd', 'geo_type': 'TextPoint'}}, {'type': 'Feature', 'geometry': {'type': 'Point', 'coordinates': [46, 21]}, 'properties': {'text': 'asdasdasdasd', 'geo_type': 'TextPoint'}}, {'type': 'Feature', 'geometry': {'type': 'Point', 'coordinates': [46, 21]}, 'properties': {'text': 'asdasdasdasd', 'geo_type': 'TextPoint'}}, {'type': 'Feature', 'geometry': {'type': 'Point', 'coordinates': [46, 21]}, 'properties': {'text': 'asdasdasdasd', 'geo_type': 'TextPoint'}}, {'type': 'Feature', 'geometry': {'type': 'Point', 'coordinates': [46, 21]}, 'properties': {'text': 'asdasdasdasd', 'geo_type': 'TextPoint'}}, {'type': 'Feature', 'geometry': {'type': 'Point', 'coordinates': [46, 21]}, 'properties': {'text': 'asdasdasdasd', 'geo_type': 'TextPoint'}}]\n"
     ]
    }
   ],
   "source": [
    "print(text_points)"
   ]
  },
  {
   "cell_type": "code",
   "execution_count": 40,
   "id": "f3fec16f",
   "metadata": {},
   "outputs": [],
   "source": [
    "TextLayer = layer_data"
   ]
  },
  {
   "cell_type": "code",
   "execution_count": 41,
   "id": "973c0b85",
   "metadata": {},
   "outputs": [],
   "source": [
    "TextLayer[\"data\"][\"features\"] = text_points"
   ]
  },
  {
   "cell_type": "code",
   "execution_count": 43,
   "id": "5ed6bfcf",
   "metadata": {
    "collapsed": true
   },
   "outputs": [
    {
     "name": "stdout",
     "output_type": "stream",
     "text": [
      "{'layername': 'PointsLayer', 'data': {'type': 'FeatureCollection', 'features': [{'type': 'Feature', 'geometry': {'type': 'Point', 'coordinates': [46, 21]}, 'properties': {'text': 'asdasdasdasd', 'geo_type': 'TextPoint'}}, {'type': 'Feature', 'geometry': {'type': 'Point', 'coordinates': [46, 21]}, 'properties': {'text': 'asdasdasdasd', 'geo_type': 'TextPoint'}}, {'type': 'Feature', 'geometry': {'type': 'Point', 'coordinates': [46, 21]}, 'properties': {'text': 'asdasdasdasd', 'geo_type': 'TextPoint'}}, {'type': 'Feature', 'geometry': {'type': 'Point', 'coordinates': [46, 21]}, 'properties': {'text': 'asdasdasdasd', 'geo_type': 'TextPoint'}}, {'type': 'Feature', 'geometry': {'type': 'Point', 'coordinates': [46, 21]}, 'properties': {'text': 'asdasdasdasd', 'geo_type': 'TextPoint'}}, {'type': 'Feature', 'geometry': {'type': 'Point', 'coordinates': [46, 21]}, 'properties': {'text': 'asdasdasdasd', 'geo_type': 'TextPoint'}}, {'type': 'Feature', 'geometry': {'type': 'Point', 'coordinates': [46, 21]}, 'properties': {'text': 'asdasdasdasd', 'geo_type': 'TextPoint'}}, {'type': 'Feature', 'geometry': {'type': 'Point', 'coordinates': [46, 21]}, 'properties': {'text': 'asdasdasdasd', 'geo_type': 'TextPoint'}}, {'type': 'Feature', 'geometry': {'type': 'Point', 'coordinates': [46, 21]}, 'properties': {'text': 'asdasdasdasd', 'geo_type': 'TextPoint'}}, {'type': 'Feature', 'geometry': {'type': 'Point', 'coordinates': [46, 21]}, 'properties': {'text': 'asdasdasdasd', 'geo_type': 'TextPoint'}}, {'type': 'Feature', 'geometry': {'type': 'Point', 'coordinates': [46, 21]}, 'properties': {'text': 'asdasdasdasd', 'geo_type': 'TextPoint'}}, {'type': 'Feature', 'geometry': {'type': 'Point', 'coordinates': [46, 21]}, 'properties': {'text': 'asdasdasdasd', 'geo_type': 'TextPoint'}}, {'type': 'Feature', 'geometry': {'type': 'Point', 'coordinates': [46, 21]}, 'properties': {'text': 'asdasdasdasd', 'geo_type': 'TextPoint'}}, {'type': 'Feature', 'geometry': {'type': 'Point', 'coordinates': [46, 21]}, 'properties': {'text': 'asdasdasdasd', 'geo_type': 'TextPoint'}}, {'type': 'Feature', 'geometry': {'type': 'Point', 'coordinates': [46, 21]}, 'properties': {'text': 'asdasdasdasd', 'geo_type': 'TextPoint'}}, {'type': 'Feature', 'geometry': {'type': 'Point', 'coordinates': [46, 21]}, 'properties': {'text': 'asdasdasdasd', 'geo_type': 'TextPoint'}}, {'type': 'Feature', 'geometry': {'type': 'Point', 'coordinates': [46, 21]}, 'properties': {'text': 'asdasdasdasd', 'geo_type': 'TextPoint'}}, {'type': 'Feature', 'geometry': {'type': 'Point', 'coordinates': [46, 21]}, 'properties': {'text': 'asdasdasdasd', 'geo_type': 'TextPoint'}}, {'type': 'Feature', 'geometry': {'type': 'Point', 'coordinates': [46, 21]}, 'properties': {'text': 'asdasdasdasd', 'geo_type': 'TextPoint'}}, {'type': 'Feature', 'geometry': {'type': 'Point', 'coordinates': [46, 21]}, 'properties': {'text': 'asdasdasdasd', 'geo_type': 'TextPoint'}}, {'type': 'Feature', 'geometry': {'type': 'Point', 'coordinates': [46, 21]}, 'properties': {'text': 'asdasdasdasd', 'geo_type': 'TextPoint'}}, {'type': 'Feature', 'geometry': {'type': 'Point', 'coordinates': [46, 21]}, 'properties': {'text': 'asdasdasdasd', 'geo_type': 'TextPoint'}}, {'type': 'Feature', 'geometry': {'type': 'Point', 'coordinates': [46, 21]}, 'properties': {'text': 'asdasdasdasd', 'geo_type': 'TextPoint'}}, {'type': 'Feature', 'geometry': {'type': 'Point', 'coordinates': [46, 21]}, 'properties': {'text': 'asdasdasdasd', 'geo_type': 'TextPoint'}}, {'type': 'Feature', 'geometry': {'type': 'Point', 'coordinates': [46, 21]}, 'properties': {'text': 'asdasdasdasd', 'geo_type': 'TextPoint'}}, {'type': 'Feature', 'geometry': {'type': 'Point', 'coordinates': [46, 21]}, 'properties': {'text': 'asdasdasdasd', 'geo_type': 'TextPoint'}}, {'type': 'Feature', 'geometry': {'type': 'Point', 'coordinates': [46, 21]}, 'properties': {'text': 'asdasdasdasd', 'geo_type': 'TextPoint'}}, {'type': 'Feature', 'geometry': {'type': 'Point', 'coordinates': [46, 21]}, 'properties': {'text': 'asdasdasdasd', 'geo_type': 'TextPoint'}}, {'type': 'Feature', 'geometry': {'type': 'Point', 'coordinates': [46, 21]}, 'properties': {'text': 'asdasdasdasd', 'geo_type': 'TextPoint'}}, {'type': 'Feature', 'geometry': {'type': 'Point', 'coordinates': [46, 21]}, 'properties': {'text': 'asdasdasdasd', 'geo_type': 'TextPoint'}}, {'type': 'Feature', 'geometry': {'type': 'Point', 'coordinates': [46, 21]}, 'properties': {'text': 'asdasdasdasd', 'geo_type': 'TextPoint'}}, {'type': 'Feature', 'geometry': {'type': 'Point', 'coordinates': [46, 21]}, 'properties': {'text': 'asdasdasdasd', 'geo_type': 'TextPoint'}}, {'type': 'Feature', 'geometry': {'type': 'Point', 'coordinates': [46, 21]}, 'properties': {'text': 'asdasdasdasd', 'geo_type': 'TextPoint'}}, {'type': 'Feature', 'geometry': {'type': 'Point', 'coordinates': [46, 21]}, 'properties': {'text': 'asdasdasdasd', 'geo_type': 'TextPoint'}}, {'type': 'Feature', 'geometry': {'type': 'Point', 'coordinates': [46, 21]}, 'properties': {'text': 'asdasdasdasd', 'geo_type': 'TextPoint'}}, {'type': 'Feature', 'geometry': {'type': 'Point', 'coordinates': [46, 21]}, 'properties': {'text': 'asdasdasdasd', 'geo_type': 'TextPoint'}}, {'type': 'Feature', 'geometry': {'type': 'Point', 'coordinates': [46, 21]}, 'properties': {'text': 'asdasdasdasd', 'geo_type': 'TextPoint'}}, {'type': 'Feature', 'geometry': {'type': 'Point', 'coordinates': [46, 21]}, 'properties': {'text': 'asdasdasdasd', 'geo_type': 'TextPoint'}}, {'type': 'Feature', 'geometry': {'type': 'Point', 'coordinates': [46, 21]}, 'properties': {'text': 'asdasdasdasd', 'geo_type': 'TextPoint'}}, {'type': 'Feature', 'geometry': {'type': 'Point', 'coordinates': [46, 21]}, 'properties': {'text': 'asdasdasdasd', 'geo_type': 'TextPoint'}}, {'type': 'Feature', 'geometry': {'type': 'Point', 'coordinates': [46, 21]}, 'properties': {'text': 'asdasdasdasd', 'geo_type': 'TextPoint'}}, {'type': 'Feature', 'geometry': {'type': 'Point', 'coordinates': [46, 21]}, 'properties': {'text': 'asdasdasdasd', 'geo_type': 'TextPoint'}}, {'type': 'Feature', 'geometry': {'type': 'Point', 'coordinates': [46, 21]}, 'properties': {'text': 'asdasdasdasd', 'geo_type': 'TextPoint'}}, {'type': 'Feature', 'geometry': {'type': 'Point', 'coordinates': [46, 21]}, 'properties': {'text': 'asdasdasdasd', 'geo_type': 'TextPoint'}}, {'type': 'Feature', 'geometry': {'type': 'Point', 'coordinates': [46, 21]}, 'properties': {'text': 'asdasdasdasd', 'geo_type': 'TextPoint'}}, {'type': 'Feature', 'geometry': {'type': 'Point', 'coordinates': [46, 21]}, 'properties': {'text': 'asdasdasdasd', 'geo_type': 'TextPoint'}}, {'type': 'Feature', 'geometry': {'type': 'Point', 'coordinates': [46, 21]}, 'properties': {'text': 'asdasdasdasd', 'geo_type': 'TextPoint'}}, {'type': 'Feature', 'geometry': {'type': 'Point', 'coordinates': [46, 21]}, 'properties': {'text': 'asdasdasdasd', 'geo_type': 'TextPoint'}}, {'type': 'Feature', 'geometry': {'type': 'Point', 'coordinates': [46, 21]}, 'properties': {'text': 'asdasdasdasd', 'geo_type': 'TextPoint'}}, {'type': 'Feature', 'geometry': {'type': 'Point', 'coordinates': [46, 21]}, 'properties': {'text': 'asdasdasdasd', 'geo_type': 'TextPoint'}}, {'type': 'Feature', 'geometry': {'type': 'Point', 'coordinates': [46, 21]}, 'properties': {'text': 'asdasdasdasd', 'geo_type': 'TextPoint'}}, {'type': 'Feature', 'geometry': {'type': 'Point', 'coordinates': [46, 21]}, 'properties': {'text': 'asdasdasdasd', 'geo_type': 'TextPoint'}}, {'type': 'Feature', 'geometry': {'type': 'Point', 'coordinates': [46, 21]}, 'properties': {'text': 'asdasdasdasd', 'geo_type': 'TextPoint'}}, {'type': 'Feature', 'geometry': {'type': 'Point', 'coordinates': [46, 21]}, 'properties': {'text': 'asdasdasdasd', 'geo_type': 'TextPoint'}}, {'type': 'Feature', 'geometry': {'type': 'Point', 'coordinates': [46, 21]}, 'properties': {'text': 'asdasdasdasd', 'geo_type': 'TextPoint'}}, {'type': 'Feature', 'geometry': {'type': 'Point', 'coordinates': [46, 21]}, 'properties': {'text': 'asdasdasdasd', 'geo_type': 'TextPoint'}}, {'type': 'Feature', 'geometry': {'type': 'Point', 'coordinates': [46, 21]}, 'properties': {'text': 'asdasdasdasd', 'geo_type': 'TextPoint'}}, {'type': 'Feature', 'geometry': {'type': 'Point', 'coordinates': [46, 21]}, 'properties': {'text': 'asdasdasdasd', 'geo_type': 'TextPoint'}}, {'type': 'Feature', 'geometry': {'type': 'Point', 'coordinates': [46, 21]}, 'properties': {'text': 'asdasdasdasd', 'geo_type': 'TextPoint'}}, {'type': 'Feature', 'geometry': {'type': 'Point', 'coordinates': [46, 21]}, 'properties': {'text': 'asdasdasdasd', 'geo_type': 'TextPoint'}}, {'type': 'Feature', 'geometry': {'type': 'Point', 'coordinates': [46, 21]}, 'properties': {'text': 'asdasdasdasd', 'geo_type': 'TextPoint'}}, {'type': 'Feature', 'geometry': {'type': 'Point', 'coordinates': [46, 21]}, 'properties': {'text': 'asdasdasdasd', 'geo_type': 'TextPoint'}}, {'type': 'Feature', 'geometry': {'type': 'Point', 'coordinates': [46, 21]}, 'properties': {'text': 'asdasdasdasd', 'geo_type': 'TextPoint'}}, {'type': 'Feature', 'geometry': {'type': 'Point', 'coordinates': [46, 21]}, 'properties': {'text': 'asdasdasdasd', 'geo_type': 'TextPoint'}}, {'type': 'Feature', 'geometry': {'type': 'Point', 'coordinates': [46, 21]}, 'properties': {'text': 'asdasdasdasd', 'geo_type': 'TextPoint'}}, {'type': 'Feature', 'geometry': {'type': 'Point', 'coordinates': [46, 21]}, 'properties': {'text': 'asdasdasdasd', 'geo_type': 'TextPoint'}}, {'type': 'Feature', 'geometry': {'type': 'Point', 'coordinates': [46, 21]}, 'properties': {'text': 'asdasdasdasd', 'geo_type': 'TextPoint'}}, {'type': 'Feature', 'geometry': {'type': 'Point', 'coordinates': [46, 21]}, 'properties': {'text': 'asdasdasdasd', 'geo_type': 'TextPoint'}}, {'type': 'Feature', 'geometry': {'type': 'Point', 'coordinates': [46, 21]}, 'properties': {'text': 'asdasdasdasd', 'geo_type': 'TextPoint'}}, {'type': 'Feature', 'geometry': {'type': 'Point', 'coordinates': [46, 21]}, 'properties': {'text': 'asdasdasdasd', 'geo_type': 'TextPoint'}}, {'type': 'Feature', 'geometry': {'type': 'Point', 'coordinates': [46, 21]}, 'properties': {'text': 'asdasdasdasd', 'geo_type': 'TextPoint'}}, {'type': 'Feature', 'geometry': {'type': 'Point', 'coordinates': [46, 21]}, 'properties': {'text': 'asdasdasdasd', 'geo_type': 'TextPoint'}}, {'type': 'Feature', 'geometry': {'type': 'Point', 'coordinates': [46, 21]}, 'properties': {'text': 'asdasdasdasd', 'geo_type': 'TextPoint'}}, {'type': 'Feature', 'geometry': {'type': 'Point', 'coordinates': [46, 21]}, 'properties': {'text': 'asdasdasdasd', 'geo_type': 'TextPoint'}}, {'type': 'Feature', 'geometry': {'type': 'Point', 'coordinates': [46, 21]}, 'properties': {'text': 'asdasdasdasd', 'geo_type': 'TextPoint'}}, {'type': 'Feature', 'geometry': {'type': 'Point', 'coordinates': [46, 21]}, 'properties': {'text': 'asdasdasdasd', 'geo_type': 'TextPoint'}}, {'type': 'Feature', 'geometry': {'type': 'Point', 'coordinates': [46, 21]}, 'properties': {'text': 'asdasdasdasd', 'geo_type': 'TextPoint'}}, {'type': 'Feature', 'geometry': {'type': 'Point', 'coordinates': [46, 21]}, 'properties': {'text': 'asdasdasdasd', 'geo_type': 'TextPoint'}}, {'type': 'Feature', 'geometry': {'type': 'Point', 'coordinates': [46, 21]}, 'properties': {'text': 'asdasdasdasd', 'geo_type': 'TextPoint'}}, {'type': 'Feature', 'geometry': {'type': 'Point', 'coordinates': [46, 21]}, 'properties': {'text': 'asdasdasdasd', 'geo_type': 'TextPoint'}}, {'type': 'Feature', 'geometry': {'type': 'Point', 'coordinates': [46, 21]}, 'properties': {'text': 'asdasdasdasd', 'geo_type': 'TextPoint'}}, {'type': 'Feature', 'geometry': {'type': 'Point', 'coordinates': [46, 21]}, 'properties': {'text': 'asdasdasdasd', 'geo_type': 'TextPoint'}}, {'type': 'Feature', 'geometry': {'type': 'Point', 'coordinates': [46, 21]}, 'properties': {'text': 'asdasdasdasd', 'geo_type': 'TextPoint'}}, {'type': 'Feature', 'geometry': {'type': 'Point', 'coordinates': [46, 21]}, 'properties': {'text': 'asdasdasdasd', 'geo_type': 'TextPoint'}}, {'type': 'Feature', 'geometry': {'type': 'Point', 'coordinates': [46, 21]}, 'properties': {'text': 'asdasdasdasd', 'geo_type': 'TextPoint'}}, {'type': 'Feature', 'geometry': {'type': 'Point', 'coordinates': [46, 21]}, 'properties': {'text': 'asdasdasdasd', 'geo_type': 'TextPoint'}}, {'type': 'Feature', 'geometry': {'type': 'Point', 'coordinates': [46, 21]}, 'properties': {'text': 'asdasdasdasd', 'geo_type': 'TextPoint'}}, {'type': 'Feature', 'geometry': {'type': 'Point', 'coordinates': [46, 21]}, 'properties': {'text': 'asdasdasdasd', 'geo_type': 'TextPoint'}}, {'type': 'Feature', 'geometry': {'type': 'Point', 'coordinates': [46, 21]}, 'properties': {'text': 'asdasdasdasd', 'geo_type': 'TextPoint'}}, {'type': 'Feature', 'geometry': {'type': 'Point', 'coordinates': [46, 21]}, 'properties': {'text': 'asdasdasdasd', 'geo_type': 'TextPoint'}}, {'type': 'Feature', 'geometry': {'type': 'Point', 'coordinates': [46, 21]}, 'properties': {'text': 'asdasdasdasd', 'geo_type': 'TextPoint'}}, {'type': 'Feature', 'geometry': {'type': 'Point', 'coordinates': [46, 21]}, 'properties': {'text': 'asdasdasdasd', 'geo_type': 'TextPoint'}}, {'type': 'Feature', 'geometry': {'type': 'Point', 'coordinates': [46, 21]}, 'properties': {'text': 'asdasdasdasd', 'geo_type': 'TextPoint'}}, {'type': 'Feature', 'geometry': {'type': 'Point', 'coordinates': [46, 21]}, 'properties': {'text': 'asdasdasdasd', 'geo_type': 'TextPoint'}}, {'type': 'Feature', 'geometry': {'type': 'Point', 'coordinates': [46, 21]}, 'properties': {'text': 'asdasdasdasd', 'geo_type': 'TextPoint'}}, {'type': 'Feature', 'geometry': {'type': 'Point', 'coordinates': [46, 21]}, 'properties': {'text': 'asdasdasdasd', 'geo_type': 'TextPoint'}}, {'type': 'Feature', 'geometry': {'type': 'Point', 'coordinates': [46, 21]}, 'properties': {'text': 'asdasdasdasd', 'geo_type': 'TextPoint'}}, {'type': 'Feature', 'geometry': {'type': 'Point', 'coordinates': [46, 21]}, 'properties': {'text': 'asdasdasdasd', 'geo_type': 'TextPoint'}}, {'type': 'Feature', 'geometry': {'type': 'Point', 'coordinates': [46, 21]}, 'properties': {'text': 'asdasdasdasd', 'geo_type': 'TextPoint'}}, {'type': 'Feature', 'geometry': {'type': 'Point', 'coordinates': [46, 21]}, 'properties': {'text': 'asdasdasdasd', 'geo_type': 'TextPoint'}}]}}\n"
     ]
    }
   ],
   "source": [
    "print(TextLayer)"
   ]
  },
  {
   "cell_type": "markdown",
   "id": "34141a06",
   "metadata": {},
   "source": [
    "## Labelize Algorithm - cdist module"
   ]
  },
  {
   "cell_type": "code",
   "execution_count": 44,
   "id": "e2756158",
   "metadata": {},
   "outputs": [],
   "source": [
    "raw_points = PointLayer[\"data\"][\"features\"]"
   ]
  },
  {
   "cell_type": "code",
   "execution_count": 45,
   "id": "98d2870c",
   "metadata": {},
   "outputs": [],
   "source": [
    "raw_texts = TextLayer[\"data\"][\"features\"]"
   ]
  },
  {
   "cell_type": "code",
   "execution_count": 46,
   "id": "cc07754d",
   "metadata": {},
   "outputs": [],
   "source": [
    "# search radius of nearest points\n",
    "r = 20\n",
    "r_squared = r ** 2"
   ]
  },
  {
   "cell_type": "code",
   "execution_count": null,
   "id": "f59803a9",
   "metadata": {},
   "outputs": [],
   "source": []
  }
 ],
 "metadata": {
  "kernelspec": {
   "display_name": "UdemyLearning",
   "language": "python",
   "name": "udemylearning"
  },
  "language_info": {
   "codemirror_mode": {
    "name": "ipython",
    "version": 3
   },
   "file_extension": ".py",
   "mimetype": "text/x-python",
   "name": "python",
   "nbconvert_exporter": "python",
   "pygments_lexer": "ipython3",
   "version": "3.9.7"
  }
 },
 "nbformat": 4,
 "nbformat_minor": 5
}
