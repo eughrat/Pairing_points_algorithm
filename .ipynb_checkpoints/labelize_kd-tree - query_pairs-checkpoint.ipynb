{
 "cells": [
  {
   "cell_type": "markdown",
   "id": "b466a47e",
   "metadata": {},
   "source": [
    "# Labelize Algorithm"
   ]
  },
  {
   "cell_type": "markdown",
   "id": "497d8bb1",
   "metadata": {},
   "source": [
    "## Briefing\n",
    "\n",
    "We prepare a dateset consisting of two random sets of geometric points in the geojson format: *PointGeomFigure* and *TextPointGeomFigure*/\n",
    "\n",
    "The goal of the algorithm is to pair the points with the text and return the text in place of the point/"
   ]
  },
  {
   "cell_type": "markdown",
   "id": "6f9cf903",
   "metadata": {},
   "source": [
    "## Imports"
   ]
  },
  {
   "cell_type": "code",
   "execution_count": 3,
   "id": "a04a270b",
   "metadata": {},
   "outputs": [],
   "source": [
    "import geopandas as gpd\n",
    "import numpy as np\n",
    "import pandas as pd\n",
    "import json\n",
    "\n",
    "from scipy.spatial import cKDTree\n",
    "from shapely.geometry import Point\n",
    "\n",
    "\n",
    "point_layer = \"\"\"{\n",
    "           \"layername\": \"$_ROBOCZY\",\n",
    "           \"data\": {\n",
    "               \"type\": \"FeatureCollection\",\n",
    "               \"features\": [\n",
    "                   {\n",
    "                       \"type\": \"Feature\",\n",
    "                       \"geometry\": {\n",
    "                           \"type\": \"Point\",\n",
    "                           \"coordinates\":\n",
    "                               [\n",
    "                                   18.0,\n",
    "                                   20.0,\n",
    "                                   0.0\n",
    "                               ]\n",
    "                       },\n",
    "                       \"properties\": {\n",
    "                           \"geo_type\": \"Point\"\n",
    "                       }\n",
    "                   },\n",
    "                   {\n",
    "                       \"type\": \"Feature\",\n",
    "                       \"geometry\": {\n",
    "                           \"type\": \"Point\",\n",
    "                           \"coordinates\":\n",
    "                               [\n",
    "                                   47.0,\n",
    "                                   18.0,\n",
    "                                   0.0\n",
    "                               ]\n",
    "                       },\n",
    "                       \"properties\": {\n",
    "                           \"geo_type\": \"Point\"\n",
    "                       }\n",
    "                   },\n",
    "                   {\n",
    "                       \"type\": \"Feature\",\n",
    "                       \"geometry\": {\n",
    "                           \"type\": \"Point\",\n",
    "                           \"coordinates\":\n",
    "                               [\n",
    "                                   90.0,\n",
    "                                   78.0,\n",
    "                                   0.0\n",
    "                               ]\n",
    "                       },\n",
    "                       \"properties\": {\n",
    "                           \"geo_type\": \"Point\"\n",
    "                       }\n",
    "                   },\n",
    "                   {\n",
    "                       \"type\": \"Feature\",\n",
    "                       \"geometry\": {\n",
    "                           \"type\": \"Point\",\n",
    "                           \"coordinates\":\n",
    "                               [\n",
    "                                   25.0,\n",
    "                                   85.0,\n",
    "                                   0.0\n",
    "                               ]\n",
    "                       },\n",
    "                       \"properties\": {\n",
    "                           \"geo_type\": \"Point\"\n",
    "                       }\n",
    "                   }\n",
    "                   ,\n",
    "                   {\n",
    "                       \"type\": \"Feature\",\n",
    "                       \"geometry\": {\n",
    "                           \"type\": \"Point\",\n",
    "                           \"coordinates\":\n",
    "                               [\n",
    "                                   83.0,\n",
    "                                   42.0,\n",
    "                                   0.0\n",
    "                               ]\n",
    "                       },\n",
    "                       \"properties\": {\n",
    "                           \"geo_type\": \"Point\"\n",
    "                       }\n",
    "                   }\n",
    "               ]\n",
    "           }\n",
    "       }\"\"\"\n",
    "\n",
    "text_layer = \"\"\"{\n",
    "           \"layername\": \"$_ROBOCZY\",\n",
    "           \"data\": {\n",
    "               \"type\": \"FeatureCollection\",\n",
    "               \"features\": [\n",
    "                   {\n",
    "                       \"type\": \"Feature\",\n",
    "                       \"geometry\": {\n",
    "                           \"type\": \"Point\",\n",
    "                           \"coordinates\":\n",
    "                               [\n",
    "                                    15.0,\n",
    "                                    15.0,\n",
    "                                    0.0\n",
    "                               ]\n",
    "                       },\n",
    "                       \"properties\": {\n",
    "                           \"text\": \"asdasdasdasd\",\n",
    "                           \"geo_type\": \"TextPoint\"\n",
    "                       }\n",
    "                   },\n",
    "                                      {\n",
    "                       \"type\": \"Feature\",\n",
    "                       \"geometry\": {\n",
    "                           \"type\": \"Point\",\n",
    "                           \"coordinates\":\n",
    "                               [\n",
    "                                   18.0,\n",
    "                                   18.0,\n",
    "                                   0.0\n",
    "                               ]\n",
    "                       },\n",
    "                       \"properties\": {\n",
    "                           \"text\": \"asdasdasdasd\",\n",
    "                           \"geo_type\": \"TextPoint\"\n",
    "                       }\n",
    "                   },\n",
    "                                      {\n",
    "                       \"type\": \"Feature\",\n",
    "                       \"geometry\": {\n",
    "                           \"type\": \"Point\",\n",
    "                           \"coordinates\":\n",
    "                               [\n",
    "                                   95.0,\n",
    "                                   82.0,\n",
    "                                   0.0\n",
    "                               ]\n",
    "                       },\n",
    "                       \"properties\": {\n",
    "                           \"text\": \"asdasdasdasd\",\n",
    "                           \"geo_type\": \"TextPoint\"\n",
    "                       }\n",
    "                   },\n",
    "                                      {\n",
    "                       \"type\": \"Feature\",\n",
    "                       \"geometry\": {\n",
    "                           \"type\": \"Point\",\n",
    "                           \"coordinates\":\n",
    "                               [\n",
    "                                   20.0,\n",
    "                                   80.0,\n",
    "                                   0.0\n",
    "                               ]\n",
    "                       },\n",
    "                       \"properties\": {\n",
    "                           \"text\": \"asdasdasdasd\",\n",
    "                           \"geo_type\": \"TextPoint\"\n",
    "                       }\n",
    "                   },\n",
    "                                      {\n",
    "                       \"type\": \"Feature\",\n",
    "                       \"geometry\": {\n",
    "                           \"type\": \"Point\",\n",
    "                           \"coordinates\":\n",
    "                               [\n",
    "                                   80.0,\n",
    "                                   40.0,\n",
    "                                   0.0\n",
    "                               ]\n",
    "                       },\n",
    "                       \"properties\": {\n",
    "                           \"text\": \"asdasdasdasd\",\n",
    "                           \"geo_type\": \"TextPoint\"\n",
    "                       }\n",
    "                   },\n",
    "                   \n",
    "               ]\n",
    "           }\n",
    "       }\"\"\""
   ]
  },
  {
   "cell_type": "markdown",
   "id": "ef643228",
   "metadata": {},
   "source": [
    "## Data preparation"
   ]
  },
  {
   "cell_type": "code",
   "execution_count": 4,
   "id": "0d86c702",
   "metadata": {
    "scrolled": true
   },
   "outputs": [],
   "source": [
    "exact_points = gpd.read_file(point_layer, driver='GeoJSON')\n",
    "text_points = gpd.read_file(text_layer, driver='GeoJSON')"
   ]
  },
  {
   "cell_type": "code",
   "execution_count": 5,
   "id": "a920ca94",
   "metadata": {},
   "outputs": [
    {
     "data": {
      "text/html": [
       "<div>\n",
       "<style scoped>\n",
       "    .dataframe tbody tr th:only-of-type {\n",
       "        vertical-align: middle;\n",
       "    }\n",
       "\n",
       "    .dataframe tbody tr th {\n",
       "        vertical-align: top;\n",
       "    }\n",
       "\n",
       "    .dataframe thead th {\n",
       "        text-align: right;\n",
       "    }\n",
       "</style>\n",
       "<table border=\"1\" class=\"dataframe\">\n",
       "  <thead>\n",
       "    <tr style=\"text-align: right;\">\n",
       "      <th></th>\n",
       "      <th>point_id</th>\n",
       "      <th>geo_type</th>\n",
       "      <th>geometry</th>\n",
       "    </tr>\n",
       "  </thead>\n",
       "  <tbody>\n",
       "    <tr>\n",
       "      <th>0</th>\n",
       "      <td>0</td>\n",
       "      <td>Point</td>\n",
       "      <td>POINT Z (18.00000 20.00000 0.00000)</td>\n",
       "    </tr>\n",
       "    <tr>\n",
       "      <th>1</th>\n",
       "      <td>1</td>\n",
       "      <td>Point</td>\n",
       "      <td>POINT Z (47.00000 18.00000 0.00000)</td>\n",
       "    </tr>\n",
       "    <tr>\n",
       "      <th>2</th>\n",
       "      <td>2</td>\n",
       "      <td>Point</td>\n",
       "      <td>POINT Z (90.00000 78.00000 0.00000)</td>\n",
       "    </tr>\n",
       "    <tr>\n",
       "      <th>3</th>\n",
       "      <td>3</td>\n",
       "      <td>Point</td>\n",
       "      <td>POINT Z (25.00000 85.00000 0.00000)</td>\n",
       "    </tr>\n",
       "    <tr>\n",
       "      <th>4</th>\n",
       "      <td>4</td>\n",
       "      <td>Point</td>\n",
       "      <td>POINT Z (83.00000 42.00000 0.00000)</td>\n",
       "    </tr>\n",
       "  </tbody>\n",
       "</table>\n",
       "</div>"
      ],
      "text/plain": [
       "   point_id geo_type                             geometry\n",
       "0         0    Point  POINT Z (18.00000 20.00000 0.00000)\n",
       "1         1    Point  POINT Z (47.00000 18.00000 0.00000)\n",
       "2         2    Point  POINT Z (90.00000 78.00000 0.00000)\n",
       "3         3    Point  POINT Z (25.00000 85.00000 0.00000)\n",
       "4         4    Point  POINT Z (83.00000 42.00000 0.00000)"
      ]
     },
     "execution_count": 5,
     "metadata": {},
     "output_type": "execute_result"
    }
   ],
   "source": [
    "exact_points.reset_index(inplace=True)\n",
    "exact_points = exact_points.rename(columns = {'index':'point_id'})\n",
    "exact_points"
   ]
  },
  {
   "cell_type": "code",
   "execution_count": 6,
   "id": "0a1bb6cb",
   "metadata": {},
   "outputs": [
    {
     "data": {
      "text/html": [
       "<div>\n",
       "<style scoped>\n",
       "    .dataframe tbody tr th:only-of-type {\n",
       "        vertical-align: middle;\n",
       "    }\n",
       "\n",
       "    .dataframe tbody tr th {\n",
       "        vertical-align: top;\n",
       "    }\n",
       "\n",
       "    .dataframe thead th {\n",
       "        text-align: right;\n",
       "    }\n",
       "</style>\n",
       "<table border=\"1\" class=\"dataframe\">\n",
       "  <thead>\n",
       "    <tr style=\"text-align: right;\">\n",
       "      <th></th>\n",
       "      <th>text_id</th>\n",
       "      <th>text</th>\n",
       "      <th>geo_type</th>\n",
       "      <th>geometry</th>\n",
       "    </tr>\n",
       "  </thead>\n",
       "  <tbody>\n",
       "    <tr>\n",
       "      <th>0</th>\n",
       "      <td>0</td>\n",
       "      <td>asdasdasdasd</td>\n",
       "      <td>TextPoint</td>\n",
       "      <td>POINT Z (15.00000 15.00000 0.00000)</td>\n",
       "    </tr>\n",
       "    <tr>\n",
       "      <th>1</th>\n",
       "      <td>1</td>\n",
       "      <td>asdasdasdasd</td>\n",
       "      <td>TextPoint</td>\n",
       "      <td>POINT Z (18.00000 18.00000 0.00000)</td>\n",
       "    </tr>\n",
       "    <tr>\n",
       "      <th>2</th>\n",
       "      <td>2</td>\n",
       "      <td>asdasdasdasd</td>\n",
       "      <td>TextPoint</td>\n",
       "      <td>POINT Z (95.00000 82.00000 0.00000)</td>\n",
       "    </tr>\n",
       "    <tr>\n",
       "      <th>3</th>\n",
       "      <td>3</td>\n",
       "      <td>asdasdasdasd</td>\n",
       "      <td>TextPoint</td>\n",
       "      <td>POINT Z (20.00000 80.00000 0.00000)</td>\n",
       "    </tr>\n",
       "    <tr>\n",
       "      <th>4</th>\n",
       "      <td>4</td>\n",
       "      <td>asdasdasdasd</td>\n",
       "      <td>TextPoint</td>\n",
       "      <td>POINT Z (80.00000 40.00000 0.00000)</td>\n",
       "    </tr>\n",
       "  </tbody>\n",
       "</table>\n",
       "</div>"
      ],
      "text/plain": [
       "   text_id          text   geo_type                             geometry\n",
       "0        0  asdasdasdasd  TextPoint  POINT Z (15.00000 15.00000 0.00000)\n",
       "1        1  asdasdasdasd  TextPoint  POINT Z (18.00000 18.00000 0.00000)\n",
       "2        2  asdasdasdasd  TextPoint  POINT Z (95.00000 82.00000 0.00000)\n",
       "3        3  asdasdasdasd  TextPoint  POINT Z (20.00000 80.00000 0.00000)\n",
       "4        4  asdasdasdasd  TextPoint  POINT Z (80.00000 40.00000 0.00000)"
      ]
     },
     "execution_count": 6,
     "metadata": {},
     "output_type": "execute_result"
    }
   ],
   "source": [
    "text_points.reset_index(inplace=True)\n",
    "text_points = text_points.rename(columns = {'index':'text_id'})\n",
    "text_points"
   ]
  },
  {
   "cell_type": "code",
   "execution_count": 7,
   "id": "dd874317",
   "metadata": {},
   "outputs": [
    {
     "data": {
      "text/plain": [
       "<AxesSubplot:>"
      ]
     },
     "execution_count": 7,
     "metadata": {},
     "output_type": "execute_result"
    },
    {
     "data": {
      "image/png": "[encoded data removed]",
      "text/plain": [
       "<Figure size 432x288 with 1 Axes>"
      ]
     },
     "metadata": {
      "needs_background": "light"
     },
     "output_type": "display_data"
    },
    {
     "data": {
      "image/png": "[encoded data removed]",
      "text/plain": [
       "<Figure size 432x288 with 1 Axes>"
      ]
     },
     "metadata": {
      "needs_background": "light"
     },
     "output_type": "display_data"
    }
   ],
   "source": [
    "exact_points.plot()\n",
    "text_points.plot()"
   ]
  },
  {
   "cell_type": "code",
   "execution_count": 10,
   "id": "b3ec8c08",
   "metadata": {},
   "outputs": [],
   "source": [
    "def ckdnearest(gdA, gdB):\n",
    "\n",
    "    nA = np.array(list(gdA.geometry.apply(lambda x: (x.x, x.y))))\n",
    "    nB = np.array(list(gdB.geometry.apply(lambda x: (x.x, x.y))))\n",
    "    btree = cKDTree(nB)\n",
    "    idx = btree.query_pairs(50)\n",
    "#     gdB_nearest = gdB.iloc[idx].drop(columns=\"geometry\").reset_index(drop=True)\n",
    "#     print(gdB)\n",
    "#     gdf = pd.concat(\n",
    "#         [\n",
    "#             gdA.reset_index(drop=True),\n",
    "#             gdB_nearest,\n",
    "#             pd.Series(dist, name='dist')\n",
    "#         ], \n",
    "#         axis=1)\n",
    "\n",
    "    return idx"
   ]
  },
  {
   "cell_type": "code",
   "execution_count": 12,
   "id": "c9950903",
   "metadata": {},
   "outputs": [],
   "source": [
    "nearest = ckdnearest(exact_points, text_points)"
   ]
  },
  {
   "cell_type": "code",
   "execution_count": 13,
   "id": "a8088014",
   "metadata": {
    "scrolled": false
   },
   "outputs": [
    {
     "data": {
      "text/plain": [
       "{(0, 1), (2, 4)}"
      ]
     },
     "execution_count": 13,
     "metadata": {},
     "output_type": "execute_result"
    }
   ],
   "source": [
    "nearest"
   ]
  },
  {
   "cell_type": "code",
   "execution_count": 69,
   "id": "e2bbc611",
   "metadata": {},
   "outputs": [
    {
     "name": "stderr",
     "output_type": "stream",
     "text": [
      "C:\\Users\\mpiernicki\\AppData\\Local\\Temp\\ipykernel_22040\\2608735356.py:1: UserWarning: Geometry is in a geographic CRS. Results from 'distance' are likely incorrect. Use 'GeoSeries.to_crs()' to re-project geometries to a projected CRS before this operation.\n",
      "\n",
      "  exact_points.geometry.apply(lambda g: text_points.distance(g))\n"
     ]
    },
    {
     "data": {
      "text/html": [
       "<div>\n",
       "<style scoped>\n",
       "    .dataframe tbody tr th:only-of-type {\n",
       "        vertical-align: middle;\n",
       "    }\n",
       "\n",
       "    .dataframe tbody tr th {\n",
       "        vertical-align: top;\n",
       "    }\n",
       "\n",
       "    .dataframe thead th {\n",
       "        text-align: right;\n",
       "    }\n",
       "</style>\n",
       "<table border=\"1\" class=\"dataframe\">\n",
       "  <thead>\n",
       "    <tr style=\"text-align: right;\">\n",
       "      <th></th>\n",
       "      <th>0</th>\n",
       "      <th>1</th>\n",
       "      <th>2</th>\n",
       "      <th>3</th>\n",
       "      <th>4</th>\n",
       "    </tr>\n",
       "  </thead>\n",
       "  <tbody>\n",
       "    <tr>\n",
       "      <th>0</th>\n",
       "      <td>5.830952</td>\n",
       "      <td>2.000000</td>\n",
       "      <td>98.858485</td>\n",
       "      <td>60.033324</td>\n",
       "      <td>65.145990</td>\n",
       "    </tr>\n",
       "    <tr>\n",
       "      <th>1</th>\n",
       "      <td>32.140317</td>\n",
       "      <td>29.000000</td>\n",
       "      <td>80.000000</td>\n",
       "      <td>67.623960</td>\n",
       "      <td>39.661064</td>\n",
       "    </tr>\n",
       "    <tr>\n",
       "      <th>2</th>\n",
       "      <td>97.948966</td>\n",
       "      <td>93.722996</td>\n",
       "      <td>6.403124</td>\n",
       "      <td>70.028566</td>\n",
       "      <td>39.293765</td>\n",
       "    </tr>\n",
       "    <tr>\n",
       "      <th>3</th>\n",
       "      <td>70.710678</td>\n",
       "      <td>67.364679</td>\n",
       "      <td>70.064256</td>\n",
       "      <td>7.071068</td>\n",
       "      <td>71.063352</td>\n",
       "    </tr>\n",
       "    <tr>\n",
       "      <th>4</th>\n",
       "      <td>73.164199</td>\n",
       "      <td>69.289249</td>\n",
       "      <td>41.761226</td>\n",
       "      <td>73.573093</td>\n",
       "      <td>3.605551</td>\n",
       "    </tr>\n",
       "  </tbody>\n",
       "</table>\n",
       "</div>"
      ],
      "text/plain": [
       "           0          1          2          3          4\n",
       "0   5.830952   2.000000  98.858485  60.033324  65.145990\n",
       "1  32.140317  29.000000  80.000000  67.623960  39.661064\n",
       "2  97.948966  93.722996   6.403124  70.028566  39.293765\n",
       "3  70.710678  67.364679  70.064256   7.071068  71.063352\n",
       "4  73.164199  69.289249  41.761226  73.573093   3.605551"
      ]
     },
     "execution_count": 69,
     "metadata": {},
     "output_type": "execute_result"
    }
   ],
   "source": [
    "exact_points.geometry.apply(lambda g: text_points.distance(g))"
   ]
  },
  {
   "cell_type": "code",
   "execution_count": 70,
   "id": "99117e49",
   "metadata": {},
   "outputs": [
    {
     "name": "stdout",
     "output_type": "stream",
     "text": [
      "Pandas(Index=0, point_id=0, geo_type='Point', geometry=<shapely.geometry.point.Point object at 0x000001D57C1021C0>)\n",
      "Pandas(Index=1, point_id=1, geo_type='Point', geometry=<shapely.geometry.point.Point object at 0x000001D57B30FBE0>)\n",
      "Pandas(Index=2, point_id=2, geo_type='Point', geometry=<shapely.geometry.point.Point object at 0x000001D57C445A30>)\n",
      "Pandas(Index=3, point_id=3, geo_type='Point', geometry=<shapely.geometry.point.Point object at 0x000001D57C445130>)\n",
      "Pandas(Index=4, point_id=4, geo_type='Point', geometry=<shapely.geometry.point.Point object at 0x000001D57C445CD0>)\n"
     ]
    }
   ],
   "source": [
    "for row in exact_points.itertuples():\n",
    "    nearest = ckdnearest(exact_points, text_points)\n",
    "    \n",
    "    print(row)"
   ]
  },
  {
   "cell_type": "code",
   "execution_count": null,
   "id": "5850ee6a",
   "metadata": {},
   "outputs": [],
   "source": []
  }
 ],
 "metadata": {
  "kernelspec": {
   "display_name": "UdemyLearning",
   "language": "python",
   "name": "udemylearning"
  },
  "language_info": {
   "codemirror_mode": {
    "name": "ipython",
    "version": 3
   },
   "file_extension": ".py",
   "mimetype": "text/x-python",
   "name": "python",
   "nbconvert_exporter": "python",
   "pygments_lexer": "ipython3",
   "version": "3.9.7"
  }
 },
 "nbformat": 4,
 "nbformat_minor": 5
}
