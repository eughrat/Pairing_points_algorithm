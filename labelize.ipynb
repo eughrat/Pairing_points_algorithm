{
 "cells": [
  {
   "cell_type": "markdown",
   "id": "b466a47e",
   "metadata": {},
   "source": [
    "# Labelize Algorithm"
   ]
  },
  {
   "cell_type": "markdown",
   "id": "497d8bb1",
   "metadata": {},
   "source": [
    "## Briefing\n",
    "\n",
    "We prepare a dateset consisting of two random sets of geometric points in the geojson format: *PointGeomFigure* and *TextPointGeomFigure*/\n",
    "\n",
    "The goal of the algorithm is to pair the points with the text and return the text in place of the point/"
   ]
  },
  {
   "cell_type": "markdown",
   "id": "6f9cf903",
   "metadata": {},
   "source": [
    "## Imports"
   ]
  },
  {
   "cell_type": "code",
   "execution_count": null,
   "id": "a04a270b",
   "metadata": {},
   "outputs": [],
   "source": [
    "import numpy as np\n",
    "import pandas as pd\n",
    "import matplotlib.pyplot as plt\n",
    "import seaborn as sns"
   ]
  },
  {
   "cell_type": "markdown",
   "id": "f6cef7f1",
   "metadata": {},
   "source": [
    "## Data preparation"
   ]
  },
  {
   "cell_type": "markdown",
   "id": "fc91c498",
   "metadata": {},
   "source": [
    "### *PointGeomFigure*"
   ]
  },
  {
   "cell_type": "code",
   "execution_count": null,
   "id": "0d86c702",
   "metadata": {},
   "outputs": [],
   "source": [
    "# Empty layer with to populate with points \n",
    "gj = {\n",
    "           \"layername\": \"Points\",\n",
    "           \"data\": {\n",
    "               \"type\": \"FeatureCollection\",\n",
    "               \"features\": [\n",
    "               ]\n",
    "           }\n",
    "       }"
   ]
  },
  {
   "cell_type": "code",
   "execution_count": null,
   "id": "9fc2c508",
   "metadata": {},
   "outputs": [],
   "source": [
    "# Empty feature of one point \n",
    "\n",
    "\n",
    "point  = {\n",
    "   \"type\": \"Feature\",\n",
    "   \"geometry\": {\n",
    "       \"type\": \"Point\",\n",
    "       \"coordinates\":\n",
    "           [\n",
    "           ]\n",
    "   },\n",
    "   \"properties\": {\n",
    "       \"geo_type\": \"Point\"\n",
    "   }\n",
    "}"
   ]
  }
 ],
 "metadata": {
  "kernelspec": {
   "display_name": "Python 3 (ipykernel)",
   "language": "python",
   "name": "python3"
  },
  "language_info": {
   "codemirror_mode": {
    "name": "ipython",
    "version": 3
   },
   "file_extension": ".py",
   "mimetype": "text/x-python",
   "name": "python",
   "nbconvert_exporter": "python",
   "pygments_lexer": "ipython3",
   "version": "3.9.7"
  }
 },
 "nbformat": 4,
 "nbformat_minor": 5
}
