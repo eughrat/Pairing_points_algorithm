{
 "cells": [
  {
   "cell_type": "markdown",
   "id": "b466a47e",
   "metadata": {},
   "source": [
    "# Labelize Algorithm"
   ]
  },
  {
   "cell_type": "markdown",
   "id": "497d8bb1",
   "metadata": {},
   "source": [
    "## Briefing\n",
    "\n",
    "We prepare a dateset consisting of two random sets of geometric points in the geojson format: *PointGeomFigure* and *TextPointGeomFigure*/\n",
    "\n",
    "The goal of the algorithm is to pair the points with the text and return the text in place of the point/"
   ]
  },
  {
   "cell_type": "markdown",
   "id": "6f9cf903",
   "metadata": {},
   "source": [
    "## Imports"
   ]
  },
  {
   "cell_type": "code",
   "execution_count": 22,
   "id": "a04a270b",
   "metadata": {},
   "outputs": [],
   "source": [
    "import geopandas as gpd\n",
    "import numpy as np\n",
    "import pandas as pd\n",
    "import json\n",
    "\n",
    "from shapely.ops import nearest_points\n",
    "from shapely.geometry import Point\n",
    "\n",
    "\n",
    "point_layer = \"\"\"{\n",
    "           \"layername\": \"$_ROBOCZY\",\n",
    "           \"data\": {\n",
    "               \"type\": \"FeatureCollection\",\n",
    "               \"features\": [\n",
    "                   {\n",
    "                       \"type\": \"Feature\",\n",
    "                       \"geometry\": {\n",
    "                           \"type\": \"Point\",\n",
    "                           \"coordinates\":\n",
    "                               [\n",
    "                                   18.0,\n",
    "                                   20.0,\n",
    "                                   0.0\n",
    "                               ]\n",
    "                       },\n",
    "                       \"properties\": {\n",
    "                           \"geo_type\": \"Point\"\n",
    "                       }\n",
    "                   },\n",
    "                   {\n",
    "                       \"type\": \"Feature\",\n",
    "                       \"geometry\": {\n",
    "                           \"type\": \"Point\",\n",
    "                           \"coordinates\":\n",
    "                               [\n",
    "                                   47.0,\n",
    "                                   18.0,\n",
    "                                   0.0\n",
    "                               ]\n",
    "                       },\n",
    "                       \"properties\": {\n",
    "                           \"geo_type\": \"Point\"\n",
    "                       }\n",
    "                   },\n",
    "                   {\n",
    "                       \"type\": \"Feature\",\n",
    "                       \"geometry\": {\n",
    "                           \"type\": \"Point\",\n",
    "                           \"coordinates\":\n",
    "                               [\n",
    "                                   90.0,\n",
    "                                   78.0,\n",
    "                                   0.0\n",
    "                               ]\n",
    "                       },\n",
    "                       \"properties\": {\n",
    "                           \"geo_type\": \"Point\"\n",
    "                       }\n",
    "                   },\n",
    "                   {\n",
    "                       \"type\": \"Feature\",\n",
    "                       \"geometry\": {\n",
    "                           \"type\": \"Point\",\n",
    "                           \"coordinates\":\n",
    "                               [\n",
    "                                   25.0,\n",
    "                                   85.0,\n",
    "                                   0.0\n",
    "                               ]\n",
    "                       },\n",
    "                       \"properties\": {\n",
    "                           \"geo_type\": \"Point\"\n",
    "                       }\n",
    "                   }\n",
    "                   ,\n",
    "                   {\n",
    "                       \"type\": \"Feature\",\n",
    "                       \"geometry\": {\n",
    "                           \"type\": \"Point\",\n",
    "                           \"coordinates\":\n",
    "                               [\n",
    "                                   83.0,\n",
    "                                   42.0,\n",
    "                                   0.0\n",
    "                               ]\n",
    "                       },\n",
    "                       \"properties\": {\n",
    "                           \"geo_type\": \"Point\"\n",
    "                       }\n",
    "                   }\n",
    "               ]\n",
    "           }\n",
    "       }\"\"\"\n",
    "\n",
    "text_layer = \"\"\"{\n",
    "           \"layername\": \"$_ROBOCZY\",\n",
    "           \"data\": {\n",
    "               \"type\": \"FeatureCollection\",\n",
    "               \"features\": [\n",
    "                   {\n",
    "                       \"type\": \"Feature\",\n",
    "                       \"geometry\": {\n",
    "                           \"type\": \"Point\",\n",
    "                           \"coordinates\":\n",
    "                               [\n",
    "                                    15.0,\n",
    "                                    15.0,\n",
    "                                    0.0\n",
    "                               ]\n",
    "                       },\n",
    "                       \"properties\": {\n",
    "                           \"text\": \"asdasdasdasd\",\n",
    "                           \"geo_type\": \"TextPoint\"\n",
    "                       }\n",
    "                   },\n",
    "                                      {\n",
    "                       \"type\": \"Feature\",\n",
    "                       \"geometry\": {\n",
    "                           \"type\": \"Point\",\n",
    "                           \"coordinates\":\n",
    "                               [\n",
    "                                   18.0,\n",
    "                                   18.0,\n",
    "                                   0.0\n",
    "                               ]\n",
    "                       },\n",
    "                       \"properties\": {\n",
    "                           \"text\": \"asdasdasdasd\",\n",
    "                           \"geo_type\": \"TextPoint\"\n",
    "                       }\n",
    "                   },\n",
    "                                      {\n",
    "                       \"type\": \"Feature\",\n",
    "                       \"geometry\": {\n",
    "                           \"type\": \"Point\",\n",
    "                           \"coordinates\":\n",
    "                               [\n",
    "                                   95.0,\n",
    "                                   82.0,\n",
    "                                   0.0\n",
    "                               ]\n",
    "                       },\n",
    "                       \"properties\": {\n",
    "                           \"text\": \"asdasdasdasd\",\n",
    "                           \"geo_type\": \"TextPoint\"\n",
    "                       }\n",
    "                   },\n",
    "                                      {\n",
    "                       \"type\": \"Feature\",\n",
    "                       \"geometry\": {\n",
    "                           \"type\": \"Point\",\n",
    "                           \"coordinates\":\n",
    "                               [\n",
    "                                   20.0,\n",
    "                                   80.0,\n",
    "                                   0.0\n",
    "                               ]\n",
    "                       },\n",
    "                       \"properties\": {\n",
    "                           \"text\": \"asdasdasdasd\",\n",
    "                           \"geo_type\": \"TextPoint\"\n",
    "                       }\n",
    "                   },\n",
    "                                      {\n",
    "                       \"type\": \"Feature\",\n",
    "                       \"geometry\": {\n",
    "                           \"type\": \"Point\",\n",
    "                           \"coordinates\":\n",
    "                               [\n",
    "                                   80.0,\n",
    "                                   40.0,\n",
    "                                   0.0\n",
    "                               ]\n",
    "                       },\n",
    "                       \"properties\": {\n",
    "                           \"text\": \"asdasdasdasd\",\n",
    "                           \"geo_type\": \"TextPoint\"\n",
    "                       }\n",
    "                   },\n",
    "                   \n",
    "               ]\n",
    "           }\n",
    "       }\"\"\""
   ]
  },
  {
   "cell_type": "markdown",
   "id": "ef643228",
   "metadata": {},
   "source": [
    "## Data preparation"
   ]
  },
  {
   "cell_type": "code",
   "execution_count": 23,
   "id": "0d86c702",
   "metadata": {
    "scrolled": true
   },
   "outputs": [],
   "source": [
    "exact_points = gpd.read_file(point_layer, driver='GeoJSON')\n",
    "text_points = gpd.read_file(text_layer, driver='GeoJSON')"
   ]
  },
  {
   "cell_type": "code",
   "execution_count": 24,
   "id": "a920ca94",
   "metadata": {},
   "outputs": [
    {
     "data": {
      "text/html": [
       "<div>\n",
       "<style scoped>\n",
       "    .dataframe tbody tr th:only-of-type {\n",
       "        vertical-align: middle;\n",
       "    }\n",
       "\n",
       "    .dataframe tbody tr th {\n",
       "        vertical-align: top;\n",
       "    }\n",
       "\n",
       "    .dataframe thead th {\n",
       "        text-align: right;\n",
       "    }\n",
       "</style>\n",
       "<table border=\"1\" class=\"dataframe\">\n",
       "  <thead>\n",
       "    <tr style=\"text-align: right;\">\n",
       "      <th></th>\n",
       "      <th>point_id</th>\n",
       "      <th>geo_type</th>\n",
       "      <th>geometry</th>\n",
       "    </tr>\n",
       "  </thead>\n",
       "  <tbody>\n",
       "    <tr>\n",
       "      <th>0</th>\n",
       "      <td>0</td>\n",
       "      <td>Point</td>\n",
       "      <td>POINT Z (18.00000 20.00000 0.00000)</td>\n",
       "    </tr>\n",
       "    <tr>\n",
       "      <th>1</th>\n",
       "      <td>1</td>\n",
       "      <td>Point</td>\n",
       "      <td>POINT Z (47.00000 18.00000 0.00000)</td>\n",
       "    </tr>\n",
       "    <tr>\n",
       "      <th>2</th>\n",
       "      <td>2</td>\n",
       "      <td>Point</td>\n",
       "      <td>POINT Z (90.00000 78.00000 0.00000)</td>\n",
       "    </tr>\n",
       "    <tr>\n",
       "      <th>3</th>\n",
       "      <td>3</td>\n",
       "      <td>Point</td>\n",
       "      <td>POINT Z (25.00000 85.00000 0.00000)</td>\n",
       "    </tr>\n",
       "    <tr>\n",
       "      <th>4</th>\n",
       "      <td>4</td>\n",
       "      <td>Point</td>\n",
       "      <td>POINT Z (83.00000 42.00000 0.00000)</td>\n",
       "    </tr>\n",
       "  </tbody>\n",
       "</table>\n",
       "</div>"
      ],
      "text/plain": [
       "   point_id geo_type                             geometry\n",
       "0         0    Point  POINT Z (18.00000 20.00000 0.00000)\n",
       "1         1    Point  POINT Z (47.00000 18.00000 0.00000)\n",
       "2         2    Point  POINT Z (90.00000 78.00000 0.00000)\n",
       "3         3    Point  POINT Z (25.00000 85.00000 0.00000)\n",
       "4         4    Point  POINT Z (83.00000 42.00000 0.00000)"
      ]
     },
     "execution_count": 24,
     "metadata": {},
     "output_type": "execute_result"
    }
   ],
   "source": [
    "exact_points.reset_index(inplace=True)\n",
    "exact_points = exact_points.rename(columns = {'index':'point_id'})\n",
    "exact_points"
   ]
  },
  {
   "cell_type": "code",
   "execution_count": 25,
   "id": "0a1bb6cb",
   "metadata": {},
   "outputs": [
    {
     "data": {
      "text/html": [
       "<div>\n",
       "<style scoped>\n",
       "    .dataframe tbody tr th:only-of-type {\n",
       "        vertical-align: middle;\n",
       "    }\n",
       "\n",
       "    .dataframe tbody tr th {\n",
       "        vertical-align: top;\n",
       "    }\n",
       "\n",
       "    .dataframe thead th {\n",
       "        text-align: right;\n",
       "    }\n",
       "</style>\n",
       "<table border=\"1\" class=\"dataframe\">\n",
       "  <thead>\n",
       "    <tr style=\"text-align: right;\">\n",
       "      <th></th>\n",
       "      <th>text_id</th>\n",
       "      <th>text</th>\n",
       "      <th>geo_type</th>\n",
       "      <th>geometry</th>\n",
       "    </tr>\n",
       "  </thead>\n",
       "  <tbody>\n",
       "    <tr>\n",
       "      <th>0</th>\n",
       "      <td>0</td>\n",
       "      <td>asdasdasdasd</td>\n",
       "      <td>TextPoint</td>\n",
       "      <td>POINT Z (15.00000 15.00000 0.00000)</td>\n",
       "    </tr>\n",
       "    <tr>\n",
       "      <th>1</th>\n",
       "      <td>1</td>\n",
       "      <td>asdasdasdasd</td>\n",
       "      <td>TextPoint</td>\n",
       "      <td>POINT Z (18.00000 18.00000 0.00000)</td>\n",
       "    </tr>\n",
       "    <tr>\n",
       "      <th>2</th>\n",
       "      <td>2</td>\n",
       "      <td>asdasdasdasd</td>\n",
       "      <td>TextPoint</td>\n",
       "      <td>POINT Z (95.00000 82.00000 0.00000)</td>\n",
       "    </tr>\n",
       "    <tr>\n",
       "      <th>3</th>\n",
       "      <td>3</td>\n",
       "      <td>asdasdasdasd</td>\n",
       "      <td>TextPoint</td>\n",
       "      <td>POINT Z (20.00000 80.00000 0.00000)</td>\n",
       "    </tr>\n",
       "    <tr>\n",
       "      <th>4</th>\n",
       "      <td>4</td>\n",
       "      <td>asdasdasdasd</td>\n",
       "      <td>TextPoint</td>\n",
       "      <td>POINT Z (80.00000 40.00000 0.00000)</td>\n",
       "    </tr>\n",
       "  </tbody>\n",
       "</table>\n",
       "</div>"
      ],
      "text/plain": [
       "   text_id          text   geo_type                             geometry\n",
       "0        0  asdasdasdasd  TextPoint  POINT Z (15.00000 15.00000 0.00000)\n",
       "1        1  asdasdasdasd  TextPoint  POINT Z (18.00000 18.00000 0.00000)\n",
       "2        2  asdasdasdasd  TextPoint  POINT Z (95.00000 82.00000 0.00000)\n",
       "3        3  asdasdasdasd  TextPoint  POINT Z (20.00000 80.00000 0.00000)\n",
       "4        4  asdasdasdasd  TextPoint  POINT Z (80.00000 40.00000 0.00000)"
      ]
     },
     "execution_count": 25,
     "metadata": {},
     "output_type": "execute_result"
    }
   ],
   "source": [
    "text_points.reset_index(inplace=True)\n",
    "text_points = text_points.rename(columns = {'index':'text_id'})\n",
    "text_points"
   ]
  },
  {
   "cell_type": "code",
   "execution_count": 26,
   "id": "dd874317",
   "metadata": {},
   "outputs": [
    {
     "data": {
      "text/plain": [
       "<AxesSubplot:>"
      ]
     },
     "execution_count": 26,
     "metadata": {},
     "output_type": "execute_result"
    },
    {
     "data": {
      "image/png": "[encoded data removed]",
      "text/plain": [
       "<Figure size 432x288 with 1 Axes>"
      ]
     },
     "metadata": {
      "needs_background": "light"
     },
     "output_type": "display_data"
    },
    {
     "data": {
      "image/png": "[encoded data removed]",
      "text/plain": [
       "<Figure size 432x288 with 1 Axes>"
      ]
     },
     "metadata": {
      "needs_background": "light"
     },
     "output_type": "display_data"
    }
   ],
   "source": [
    "exact_points.plot()\n",
    "text_points.plot()"
   ]
  },
  {
   "cell_type": "code",
   "execution_count": 32,
   "id": "9b4c0555",
   "metadata": {},
   "outputs": [],
   "source": [
    "def near(point, pts=pts3):\n",
    "    nearest = gpd2.geometry == nearest_points(point, pts)[1]\n",
    "    return gpd2[nearest].Place.get_values()[0]"
   ]
  },
  {
   "cell_type": "code",
   "execution_count": 33,
   "id": "17af4891",
   "metadata": {},
   "outputs": [
    {
     "name": "stdout",
     "output_type": "stream",
     "text": [
      "<class 'shapely.geometry.multipoint.MultiPoint'>\n"
     ]
    }
   ],
   "source": [
    "print(type(pts3))"
   ]
  },
  {
   "cell_type": "code",
   "execution_count": 35,
   "id": "b3ec8c08",
   "metadata": {},
   "outputs": [],
   "source": [
    "def near(point, pts=pts3):\n",
    "    nearest = text_points.geometry == nearest_points(point, pts)[1]\n",
    "    return text_points[nearest].text_id.get_values()[0]"
   ]
  },
  {
   "cell_type": "code",
   "execution_count": 36,
   "id": "c9950903",
   "metadata": {},
   "outputs": [
    {
     "ename": "AttributeError",
     "evalue": "'Series' object has no attribute 'get_values'",
     "output_type": "error",
     "traceback": [
      "\u001b[1;31m---------------------------------------------------------------------------\u001b[0m",
      "\u001b[1;31mAttributeError\u001b[0m                            Traceback (most recent call last)",
      "Input \u001b[1;32mIn [36]\u001b[0m, in \u001b[0;36m<cell line: 1>\u001b[1;34m()\u001b[0m\n\u001b[1;32m----> 1\u001b[0m exact_points[\u001b[38;5;124m'\u001b[39m\u001b[38;5;124mNearest\u001b[39m\u001b[38;5;124m'\u001b[39m] \u001b[38;5;241m=\u001b[39m \u001b[43mexact_points\u001b[49m\u001b[38;5;241;43m.\u001b[39;49m\u001b[43mapply\u001b[49m\u001b[43m(\u001b[49m\u001b[38;5;28;43;01mlambda\u001b[39;49;00m\u001b[43m \u001b[49m\u001b[43mrow\u001b[49m\u001b[43m:\u001b[49m\u001b[43m \u001b[49m\u001b[43mnear\u001b[49m\u001b[43m(\u001b[49m\u001b[43mrow\u001b[49m\u001b[38;5;241;43m.\u001b[39;49m\u001b[43mgeometry\u001b[49m\u001b[43m)\u001b[49m\u001b[43m,\u001b[49m\u001b[43m \u001b[49m\u001b[43maxis\u001b[49m\u001b[38;5;241;43m=\u001b[39;49m\u001b[38;5;241;43m1\u001b[39;49m\u001b[43m)\u001b[49m\n",
      "File \u001b[1;32m~\\Anaconda3\\envs\\UdemyLearning\\lib\\site-packages\\geopandas\\geodataframe.py:1482\u001b[0m, in \u001b[0;36mGeoDataFrame.apply\u001b[1;34m(self, func, axis, raw, result_type, args, **kwargs)\u001b[0m\n\u001b[0;32m   1480\u001b[0m \u001b[38;5;129m@doc\u001b[39m(pd\u001b[38;5;241m.\u001b[39mDataFrame)\n\u001b[0;32m   1481\u001b[0m \u001b[38;5;28;01mdef\u001b[39;00m \u001b[38;5;21mapply\u001b[39m(\u001b[38;5;28mself\u001b[39m, func, axis\u001b[38;5;241m=\u001b[39m\u001b[38;5;241m0\u001b[39m, raw\u001b[38;5;241m=\u001b[39m\u001b[38;5;28;01mFalse\u001b[39;00m, result_type\u001b[38;5;241m=\u001b[39m\u001b[38;5;28;01mNone\u001b[39;00m, args\u001b[38;5;241m=\u001b[39m(), \u001b[38;5;241m*\u001b[39m\u001b[38;5;241m*\u001b[39mkwargs):\n\u001b[1;32m-> 1482\u001b[0m     result \u001b[38;5;241m=\u001b[39m \u001b[38;5;28msuper\u001b[39m()\u001b[38;5;241m.\u001b[39mapply(\n\u001b[0;32m   1483\u001b[0m         func, axis\u001b[38;5;241m=\u001b[39maxis, raw\u001b[38;5;241m=\u001b[39mraw, result_type\u001b[38;5;241m=\u001b[39mresult_type, args\u001b[38;5;241m=\u001b[39margs, \u001b[38;5;241m*\u001b[39m\u001b[38;5;241m*\u001b[39mkwargs\n\u001b[0;32m   1484\u001b[0m     )\n\u001b[0;32m   1485\u001b[0m     \u001b[38;5;66;03m# Reconstruct gdf if it was lost by apply\u001b[39;00m\n\u001b[0;32m   1486\u001b[0m     \u001b[38;5;28;01mif\u001b[39;00m (\n\u001b[0;32m   1487\u001b[0m         \u001b[38;5;28misinstance\u001b[39m(result, DataFrame)\n\u001b[0;32m   1488\u001b[0m         \u001b[38;5;129;01mand\u001b[39;00m \u001b[38;5;28mself\u001b[39m\u001b[38;5;241m.\u001b[39m_geometry_column_name \u001b[38;5;129;01min\u001b[39;00m result\u001b[38;5;241m.\u001b[39mcolumns\n\u001b[0;32m   1489\u001b[0m     ):\n\u001b[0;32m   1490\u001b[0m         \u001b[38;5;66;03m# axis=1 apply will split GeometryDType to object, try and cast back\u001b[39;00m\n",
      "File \u001b[1;32m~\\Anaconda3\\envs\\UdemyLearning\\lib\\site-packages\\pandas\\core\\frame.py:8833\u001b[0m, in \u001b[0;36mDataFrame.apply\u001b[1;34m(self, func, axis, raw, result_type, args, **kwargs)\u001b[0m\n\u001b[0;32m   8822\u001b[0m \u001b[38;5;28;01mfrom\u001b[39;00m \u001b[38;5;21;01mpandas\u001b[39;00m\u001b[38;5;21;01m.\u001b[39;00m\u001b[38;5;21;01mcore\u001b[39;00m\u001b[38;5;21;01m.\u001b[39;00m\u001b[38;5;21;01mapply\u001b[39;00m \u001b[38;5;28;01mimport\u001b[39;00m frame_apply\n\u001b[0;32m   8824\u001b[0m op \u001b[38;5;241m=\u001b[39m frame_apply(\n\u001b[0;32m   8825\u001b[0m     \u001b[38;5;28mself\u001b[39m,\n\u001b[0;32m   8826\u001b[0m     func\u001b[38;5;241m=\u001b[39mfunc,\n\u001b[1;32m   (...)\u001b[0m\n\u001b[0;32m   8831\u001b[0m     kwargs\u001b[38;5;241m=\u001b[39mkwargs,\n\u001b[0;32m   8832\u001b[0m )\n\u001b[1;32m-> 8833\u001b[0m \u001b[38;5;28;01mreturn\u001b[39;00m \u001b[43mop\u001b[49m\u001b[38;5;241;43m.\u001b[39;49m\u001b[43mapply\u001b[49m\u001b[43m(\u001b[49m\u001b[43m)\u001b[49m\u001b[38;5;241m.\u001b[39m__finalize__(\u001b[38;5;28mself\u001b[39m, method\u001b[38;5;241m=\u001b[39m\u001b[38;5;124m\"\u001b[39m\u001b[38;5;124mapply\u001b[39m\u001b[38;5;124m\"\u001b[39m)\n",
      "File \u001b[1;32m~\\Anaconda3\\envs\\UdemyLearning\\lib\\site-packages\\pandas\\core\\apply.py:727\u001b[0m, in \u001b[0;36mFrameApply.apply\u001b[1;34m(self)\u001b[0m\n\u001b[0;32m    724\u001b[0m \u001b[38;5;28;01melif\u001b[39;00m \u001b[38;5;28mself\u001b[39m\u001b[38;5;241m.\u001b[39mraw:\n\u001b[0;32m    725\u001b[0m     \u001b[38;5;28;01mreturn\u001b[39;00m \u001b[38;5;28mself\u001b[39m\u001b[38;5;241m.\u001b[39mapply_raw()\n\u001b[1;32m--> 727\u001b[0m \u001b[38;5;28;01mreturn\u001b[39;00m \u001b[38;5;28;43mself\u001b[39;49m\u001b[38;5;241;43m.\u001b[39;49m\u001b[43mapply_standard\u001b[49m\u001b[43m(\u001b[49m\u001b[43m)\u001b[49m\n",
      "File \u001b[1;32m~\\Anaconda3\\envs\\UdemyLearning\\lib\\site-packages\\pandas\\core\\apply.py:851\u001b[0m, in \u001b[0;36mFrameApply.apply_standard\u001b[1;34m(self)\u001b[0m\n\u001b[0;32m    850\u001b[0m \u001b[38;5;28;01mdef\u001b[39;00m \u001b[38;5;21mapply_standard\u001b[39m(\u001b[38;5;28mself\u001b[39m):\n\u001b[1;32m--> 851\u001b[0m     results, res_index \u001b[38;5;241m=\u001b[39m \u001b[38;5;28;43mself\u001b[39;49m\u001b[38;5;241;43m.\u001b[39;49m\u001b[43mapply_series_generator\u001b[49m\u001b[43m(\u001b[49m\u001b[43m)\u001b[49m\n\u001b[0;32m    853\u001b[0m     \u001b[38;5;66;03m# wrap results\u001b[39;00m\n\u001b[0;32m    854\u001b[0m     \u001b[38;5;28;01mreturn\u001b[39;00m \u001b[38;5;28mself\u001b[39m\u001b[38;5;241m.\u001b[39mwrap_results(results, res_index)\n",
      "File \u001b[1;32m~\\Anaconda3\\envs\\UdemyLearning\\lib\\site-packages\\pandas\\core\\apply.py:867\u001b[0m, in \u001b[0;36mFrameApply.apply_series_generator\u001b[1;34m(self)\u001b[0m\n\u001b[0;32m    864\u001b[0m \u001b[38;5;28;01mwith\u001b[39;00m option_context(\u001b[38;5;124m\"\u001b[39m\u001b[38;5;124mmode.chained_assignment\u001b[39m\u001b[38;5;124m\"\u001b[39m, \u001b[38;5;28;01mNone\u001b[39;00m):\n\u001b[0;32m    865\u001b[0m     \u001b[38;5;28;01mfor\u001b[39;00m i, v \u001b[38;5;129;01min\u001b[39;00m \u001b[38;5;28menumerate\u001b[39m(series_gen):\n\u001b[0;32m    866\u001b[0m         \u001b[38;5;66;03m# ignore SettingWithCopy here in case the user mutates\u001b[39;00m\n\u001b[1;32m--> 867\u001b[0m         results[i] \u001b[38;5;241m=\u001b[39m \u001b[38;5;28;43mself\u001b[39;49m\u001b[38;5;241;43m.\u001b[39;49m\u001b[43mf\u001b[49m\u001b[43m(\u001b[49m\u001b[43mv\u001b[49m\u001b[43m)\u001b[49m\n\u001b[0;32m    868\u001b[0m         \u001b[38;5;28;01mif\u001b[39;00m \u001b[38;5;28misinstance\u001b[39m(results[i], ABCSeries):\n\u001b[0;32m    869\u001b[0m             \u001b[38;5;66;03m# If we have a view on v, we need to make a copy because\u001b[39;00m\n\u001b[0;32m    870\u001b[0m             \u001b[38;5;66;03m#  series_generator will swap out the underlying data\u001b[39;00m\n\u001b[0;32m    871\u001b[0m             results[i] \u001b[38;5;241m=\u001b[39m results[i]\u001b[38;5;241m.\u001b[39mcopy(deep\u001b[38;5;241m=\u001b[39m\u001b[38;5;28;01mFalse\u001b[39;00m)\n",
      "Input \u001b[1;32mIn [36]\u001b[0m, in \u001b[0;36m<lambda>\u001b[1;34m(row)\u001b[0m\n\u001b[1;32m----> 1\u001b[0m exact_points[\u001b[38;5;124m'\u001b[39m\u001b[38;5;124mNearest\u001b[39m\u001b[38;5;124m'\u001b[39m] \u001b[38;5;241m=\u001b[39m exact_points\u001b[38;5;241m.\u001b[39mapply(\u001b[38;5;28;01mlambda\u001b[39;00m row: \u001b[43mnear\u001b[49m\u001b[43m(\u001b[49m\u001b[43mrow\u001b[49m\u001b[38;5;241;43m.\u001b[39;49m\u001b[43mgeometry\u001b[49m\u001b[43m)\u001b[49m, axis\u001b[38;5;241m=\u001b[39m\u001b[38;5;241m1\u001b[39m)\n",
      "Input \u001b[1;32mIn [35]\u001b[0m, in \u001b[0;36mnear\u001b[1;34m(point, pts)\u001b[0m\n\u001b[0;32m      1\u001b[0m \u001b[38;5;28;01mdef\u001b[39;00m \u001b[38;5;21mnear\u001b[39m(point, pts\u001b[38;5;241m=\u001b[39mpts3):\n\u001b[0;32m      2\u001b[0m     nearest \u001b[38;5;241m=\u001b[39m text_points\u001b[38;5;241m.\u001b[39mgeometry \u001b[38;5;241m==\u001b[39m nearest_points(point, pts)[\u001b[38;5;241m1\u001b[39m]\n\u001b[1;32m----> 3\u001b[0m     \u001b[38;5;28;01mreturn\u001b[39;00m \u001b[43mtext_points\u001b[49m\u001b[43m[\u001b[49m\u001b[43mnearest\u001b[49m\u001b[43m]\u001b[49m\u001b[38;5;241;43m.\u001b[39;49m\u001b[43mtext_id\u001b[49m\u001b[38;5;241;43m.\u001b[39;49m\u001b[43mget_values\u001b[49m()[\u001b[38;5;241m0\u001b[39m]\n",
      "File \u001b[1;32m~\\Anaconda3\\envs\\UdemyLearning\\lib\\site-packages\\pandas\\core\\generic.py:5583\u001b[0m, in \u001b[0;36mNDFrame.__getattr__\u001b[1;34m(self, name)\u001b[0m\n\u001b[0;32m   5576\u001b[0m \u001b[38;5;28;01mif\u001b[39;00m (\n\u001b[0;32m   5577\u001b[0m     name \u001b[38;5;129;01mnot\u001b[39;00m \u001b[38;5;129;01min\u001b[39;00m \u001b[38;5;28mself\u001b[39m\u001b[38;5;241m.\u001b[39m_internal_names_set\n\u001b[0;32m   5578\u001b[0m     \u001b[38;5;129;01mand\u001b[39;00m name \u001b[38;5;129;01mnot\u001b[39;00m \u001b[38;5;129;01min\u001b[39;00m \u001b[38;5;28mself\u001b[39m\u001b[38;5;241m.\u001b[39m_metadata\n\u001b[0;32m   5579\u001b[0m     \u001b[38;5;129;01mand\u001b[39;00m name \u001b[38;5;129;01mnot\u001b[39;00m \u001b[38;5;129;01min\u001b[39;00m \u001b[38;5;28mself\u001b[39m\u001b[38;5;241m.\u001b[39m_accessors\n\u001b[0;32m   5580\u001b[0m     \u001b[38;5;129;01mand\u001b[39;00m \u001b[38;5;28mself\u001b[39m\u001b[38;5;241m.\u001b[39m_info_axis\u001b[38;5;241m.\u001b[39m_can_hold_identifiers_and_holds_name(name)\n\u001b[0;32m   5581\u001b[0m ):\n\u001b[0;32m   5582\u001b[0m     \u001b[38;5;28;01mreturn\u001b[39;00m \u001b[38;5;28mself\u001b[39m[name]\n\u001b[1;32m-> 5583\u001b[0m \u001b[38;5;28;01mreturn\u001b[39;00m \u001b[38;5;28;43mobject\u001b[39;49m\u001b[38;5;241;43m.\u001b[39;49m\u001b[38;5;21;43m__getattribute__\u001b[39;49m\u001b[43m(\u001b[49m\u001b[38;5;28;43mself\u001b[39;49m\u001b[43m,\u001b[49m\u001b[43m \u001b[49m\u001b[43mname\u001b[49m\u001b[43m)\u001b[49m\n",
      "\u001b[1;31mAttributeError\u001b[0m: 'Series' object has no attribute 'get_values'"
     ]
    }
   ],
   "source": [
    "exact_points['Nearest'] = exact_points.apply(lambda row: near(row.geometry), axis=1)"
   ]
  },
  {
   "cell_type": "code",
   "execution_count": 31,
   "id": "a8088014",
   "metadata": {
    "scrolled": false
   },
   "outputs": [
    {
     "ename": "NameError",
     "evalue": "name 'nearest' is not defined",
     "output_type": "error",
     "traceback": [
      "\u001b[1;31m---------------------------------------------------------------------------\u001b[0m",
      "\u001b[1;31mNameError\u001b[0m                                 Traceback (most recent call last)",
      "Input \u001b[1;32mIn [31]\u001b[0m, in \u001b[0;36m<cell line: 1>\u001b[1;34m()\u001b[0m\n\u001b[1;32m----> 1\u001b[0m \u001b[43mnearest\u001b[49m\n",
      "\u001b[1;31mNameError\u001b[0m: name 'nearest' is not defined"
     ]
    }
   ],
   "source": [
    "nearest"
   ]
  },
  {
   "cell_type": "code",
   "execution_count": 34,
   "id": "e2bbc611",
   "metadata": {},
   "outputs": [
    {
     "name": "stderr",
     "output_type": "stream",
     "text": [
      "C:\\Users\\mpiernicki\\AppData\\Local\\Temp\\ipykernel_22040\\2608735356.py:1: UserWarning: Geometry is in a geographic CRS. Results from 'distance' are likely incorrect. Use 'GeoSeries.to_crs()' to re-project geometries to a projected CRS before this operation.\n",
      "\n",
      "  exact_points.geometry.apply(lambda g: text_points.distance(g))\n"
     ]
    },
    {
     "data": {
      "text/html": [
       "<div>\n",
       "<style scoped>\n",
       "    .dataframe tbody tr th:only-of-type {\n",
       "        vertical-align: middle;\n",
       "    }\n",
       "\n",
       "    .dataframe tbody tr th {\n",
       "        vertical-align: top;\n",
       "    }\n",
       "\n",
       "    .dataframe thead th {\n",
       "        text-align: right;\n",
       "    }\n",
       "</style>\n",
       "<table border=\"1\" class=\"dataframe\">\n",
       "  <thead>\n",
       "    <tr style=\"text-align: right;\">\n",
       "      <th></th>\n",
       "      <th>0</th>\n",
       "      <th>1</th>\n",
       "      <th>2</th>\n",
       "      <th>3</th>\n",
       "      <th>4</th>\n",
       "    </tr>\n",
       "  </thead>\n",
       "  <tbody>\n",
       "    <tr>\n",
       "      <th>0</th>\n",
       "      <td>5.830952</td>\n",
       "      <td>2.000000</td>\n",
       "      <td>98.858485</td>\n",
       "      <td>60.033324</td>\n",
       "      <td>65.145990</td>\n",
       "    </tr>\n",
       "    <tr>\n",
       "      <th>1</th>\n",
       "      <td>32.140317</td>\n",
       "      <td>29.000000</td>\n",
       "      <td>80.000000</td>\n",
       "      <td>67.623960</td>\n",
       "      <td>39.661064</td>\n",
       "    </tr>\n",
       "    <tr>\n",
       "      <th>2</th>\n",
       "      <td>97.948966</td>\n",
       "      <td>93.722996</td>\n",
       "      <td>6.403124</td>\n",
       "      <td>70.028566</td>\n",
       "      <td>39.293765</td>\n",
       "    </tr>\n",
       "    <tr>\n",
       "      <th>3</th>\n",
       "      <td>70.710678</td>\n",
       "      <td>67.364679</td>\n",
       "      <td>70.064256</td>\n",
       "      <td>7.071068</td>\n",
       "      <td>71.063352</td>\n",
       "    </tr>\n",
       "    <tr>\n",
       "      <th>4</th>\n",
       "      <td>73.164199</td>\n",
       "      <td>69.289249</td>\n",
       "      <td>41.761226</td>\n",
       "      <td>73.573093</td>\n",
       "      <td>3.605551</td>\n",
       "    </tr>\n",
       "  </tbody>\n",
       "</table>\n",
       "</div>"
      ],
      "text/plain": [
       "           0          1          2          3          4\n",
       "0   5.830952   2.000000  98.858485  60.033324  65.145990\n",
       "1  32.140317  29.000000  80.000000  67.623960  39.661064\n",
       "2  97.948966  93.722996   6.403124  70.028566  39.293765\n",
       "3  70.710678  67.364679  70.064256   7.071068  71.063352\n",
       "4  73.164199  69.289249  41.761226  73.573093   3.605551"
      ]
     },
     "execution_count": 34,
     "metadata": {},
     "output_type": "execute_result"
    }
   ],
   "source": [
    "exact_points.geometry.apply(lambda g: text_points.distance(g))"
   ]
  },
  {
   "cell_type": "code",
   "execution_count": 35,
   "id": "99117e49",
   "metadata": {},
   "outputs": [
    {
     "name": "stdout",
     "output_type": "stream",
     "text": [
      "Pandas(Index=0, point_id=0, geo_type='Point', geometry=<shapely.geometry.point.Point object at 0x000001D577989D60>)\n",
      "Pandas(Index=1, point_id=1, geo_type='Point', geometry=<shapely.geometry.point.Point object at 0x000001D5779899A0>)\n",
      "Pandas(Index=2, point_id=2, geo_type='Point', geometry=<shapely.geometry.point.Point object at 0x000001D577989130>)\n",
      "Pandas(Index=3, point_id=3, geo_type='Point', geometry=<shapely.geometry.point.Point object at 0x000001D57759E0A0>)\n",
      "Pandas(Index=4, point_id=4, geo_type='Point', geometry=<shapely.geometry.point.Point object at 0x000001D5779E58E0>)\n"
     ]
    }
   ],
   "source": [
    "for row in exact_points.itertuples():\n",
    "    nearest = ckdnearest(exact_points, text_points)\n",
    "    \n",
    "    print(row)"
   ]
  },
  {
   "cell_type": "code",
   "execution_count": null,
   "id": "5850ee6a",
   "metadata": {},
   "outputs": [],
   "source": []
  }
 ],
 "metadata": {
  "kernelspec": {
   "display_name": "UdemyLearning",
   "language": "python",
   "name": "udemylearning"
  },
  "language_info": {
   "codemirror_mode": {
    "name": "ipython",
    "version": 3
   },
   "file_extension": ".py",
   "mimetype": "text/x-python",
   "name": "python",
   "nbconvert_exporter": "python",
   "pygments_lexer": "ipython3",
   "version": "3.9.7"
  }
 },
 "nbformat": 4,
 "nbformat_minor": 5
}
